{
 "cells": [
  {
   "cell_type": "code",
   "execution_count": 77,
   "id": "95607fe7-8dbb-40fd-ad86-1d3d0cc0a321",
   "metadata": {},
   "outputs": [],
   "source": [
    "from selenium import webdriver\n",
    "from selenium.webdriver.chrome.service import Service\n",
    "from selenium.webdriver.common.keys import Keys\n",
    "from selenium.webdriver.common.by import By\n",
    "from selenium.webdriver.support.ui import WebDriverWait\n",
    "from selenium.webdriver.support import expected_conditions as EC\n",
    "import time\n",
    "import pandas as pd\n",
    "import numpy as np"
   ]
  },
  {
   "cell_type": "code",
   "execution_count": 2,
   "id": "ddcc7899-1b7c-41bf-9060-7b6705f1ba2c",
   "metadata": {},
   "outputs": [],
   "source": [
    "PATH = r\"C:\\Program Files (x86)\\chromedriver.exe\"\n",
    "service = Service(PATH)\n",
    "driver = webdriver.Chrome(service=service)\n"
   ]
  },
  {
   "cell_type": "code",
   "execution_count": 3,
   "id": "48c3f37d-ed12-4dd1-b39a-fc232cd63562",
   "metadata": {},
   "outputs": [],
   "source": [
    "driver.get(\"https://www.amazon.com/\")\n",
    "time.sleep(10)"
   ]
  },
  {
   "cell_type": "code",
   "execution_count": 4,
   "id": "97f08747-907c-44b3-88ab-1d0c2507e573",
   "metadata": {},
   "outputs": [],
   "source": [
    "location = driver.find_element(By.ID,\"nav-global-location-popover-link\")\n",
    "location.click()"
   ]
  },
  {
   "cell_type": "code",
   "execution_count": 6,
   "id": "c6aeec71-e4fe-4b67-9ed1-4354104ebd85",
   "metadata": {},
   "outputs": [],
   "source": [
    "enter_zip = driver.find_element(By.XPATH,'//*[@id=\"GLUXZipUpdateInput\"]')\n"
   ]
  },
  {
   "cell_type": "code",
   "execution_count": 7,
   "id": "7f63fff2-348b-48ca-af87-de398f474807",
   "metadata": {},
   "outputs": [],
   "source": [
    "enter_zip.click()"
   ]
  },
  {
   "cell_type": "code",
   "execution_count": 8,
   "id": "f9fc3ac1-eb35-4d03-a6c2-bd1de13dd61f",
   "metadata": {},
   "outputs": [],
   "source": [
    "enter_zip.send_keys(\"10001\")\n",
    "enter_zip.send_keys(Keys.RETURN)\n"
   ]
  },
  {
   "cell_type": "code",
   "execution_count": 11,
   "id": "047586fc-62bc-4579-9b44-2155e4e8c036",
   "metadata": {},
   "outputs": [],
   "source": [
    "continue_bar = driver.find_element(\"xpath\", '//*[@id=\"GLUXConfirmClose-announce\" and @class=\"a-button-text\"]')\n",
    "driver.execute_script(\"arguments[0].click();\", continue_bar)"
   ]
  },
  {
   "cell_type": "code",
   "execution_count": 12,
   "id": "c893b13a-7e71-456e-a62d-3f6edf613395",
   "metadata": {},
   "outputs": [],
   "source": [
    "search = driver.find_element(By.ID,\"twotabsearchtextbox\")\n",
    "search.send_keys(\"simply stylin\")\n",
    "search.send_keys(Keys.RETURN)"
   ]
  },
  {
   "cell_type": "code",
   "execution_count": 13,
   "id": "f9ae80a4-9fe0-4b79-ae95-88d38043c399",
   "metadata": {},
   "outputs": [],
   "source": [
    "products = driver.find_elements(By.XPATH, \"//div[contains(@class, 's-result-item') and contains(@data-component-type, 's-search-result')]\")\n"
   ]
  },
  {
   "cell_type": "code",
   "execution_count": 14,
   "id": "cb35b79b-7c49-467c-8881-294b0ddd1738",
   "metadata": {},
   "outputs": [],
   "source": [
    "products[0].click()"
   ]
  },
  {
   "cell_type": "code",
   "execution_count": 15,
   "id": "cde0800f-a6ea-4b2a-a6eb-179102007bab",
   "metadata": {},
   "outputs": [],
   "source": [
    "sellers_box=driver.find_element(By.ID,\"dynamic-aod-ingress-box\")"
   ]
  },
  {
   "cell_type": "code",
   "execution_count": 16,
   "id": "681eb41a-1586-46b8-8c3e-b5902fabe5ab",
   "metadata": {},
   "outputs": [],
   "source": [
    "sellers_box.click()"
   ]
  },
  {
   "cell_type": "code",
   "execution_count": 17,
   "id": "4e49aa08-b5f7-4906-9cc1-dd5d18524616",
   "metadata": {},
   "outputs": [],
   "source": [
    "# filters=driver.find_element(By.ID,\"aod-filter-component\")"
   ]
  },
  {
   "cell_type": "code",
   "execution_count": 18,
   "id": "5636a92f-25e8-4fbf-9065-088b96900846",
   "metadata": {},
   "outputs": [],
   "source": [
    "# filters.click()"
   ]
  },
  {
   "cell_type": "code",
   "execution_count": 19,
   "id": "b43695a8-e191-4fee-9d49-94090f9c1c37",
   "metadata": {},
   "outputs": [],
   "source": [
    "# see_more = driver.find_element(By.ID,\"aod-pinned-offer-show-more-link\")"
   ]
  },
  {
   "cell_type": "code",
   "execution_count": 20,
   "id": "d09999ac-e863-460b-aa48-11aeaffc9d74",
   "metadata": {},
   "outputs": [],
   "source": [
    "# see_more.click()"
   ]
  },
  {
   "cell_type": "code",
   "execution_count": 21,
   "id": "0dcc2df1-9de6-467a-a2f0-c4245de3c657",
   "metadata": {},
   "outputs": [],
   "source": [
    "# seller_shop = driver.find_element(By.XPATH,'/html/body/div[1]/span/span/span/div/div/div[2]/div/div[3]/div[1]/div[5]/div/div/div/div[2]/a')"
   ]
  },
  {
   "cell_type": "code",
   "execution_count": 22,
   "id": "4488a0a7-8fee-4e10-9684-e44229f6d541",
   "metadata": {},
   "outputs": [],
   "source": [
    "# seller_shop.click()"
   ]
  },
  {
   "cell_type": "code",
   "execution_count": 23,
   "id": "4a288058-4003-4d70-bc5e-abe1394f8cb8",
   "metadata": {},
   "outputs": [],
   "source": [
    "# entering_seller_shop = driver.find_element(By.XPATH,'//*[@id=\"page-section-products\"]/div/div/div/span/span/a')"
   ]
  },
  {
   "cell_type": "code",
   "execution_count": 24,
   "id": "52d0f49f-3772-4641-8b49-d82fbe9be086",
   "metadata": {},
   "outputs": [],
   "source": [
    "all_offers = WebDriverWait(driver, 10).until(\n",
    "                EC.presence_of_element_located((By.XPATH, '//*[@id=\"all-offers-display\"]'))\n",
    "                )\n",
    "\n"
   ]
  },
  {
   "cell_type": "code",
   "execution_count": 28,
   "id": "9b1dbba3-fc25-4ef3-826e-f6bc5cdd87b4",
   "metadata": {},
   "outputs": [
    {
     "name": "stdout",
     "output_type": "stream",
     "text": [
      "[<selenium.webdriver.remote.webelement.WebElement (session=\"eb8421dcd5aab10208c8b7148b0a9a21\", element=\"f.C7066B77FCF738EA409E43D536A2A5E8.d.BFBF2666D25E8F0FDB097403AA1A2584.e.17020\")>, <selenium.webdriver.remote.webelement.WebElement (session=\"eb8421dcd5aab10208c8b7148b0a9a21\", element=\"f.C7066B77FCF738EA409E43D536A2A5E8.d.BFBF2666D25E8F0FDB097403AA1A2584.e.17021\")>, <selenium.webdriver.remote.webelement.WebElement (session=\"eb8421dcd5aab10208c8b7148b0a9a21\", element=\"f.C7066B77FCF738EA409E43D536A2A5E8.d.BFBF2666D25E8F0FDB097403AA1A2584.e.17022\")>, <selenium.webdriver.remote.webelement.WebElement (session=\"eb8421dcd5aab10208c8b7148b0a9a21\", element=\"f.C7066B77FCF738EA409E43D536A2A5E8.d.BFBF2666D25E8F0FDB097403AA1A2584.e.17023\")>, <selenium.webdriver.remote.webelement.WebElement (session=\"eb8421dcd5aab10208c8b7148b0a9a21\", element=\"f.C7066B77FCF738EA409E43D536A2A5E8.d.BFBF2666D25E8F0FDB097403AA1A2584.e.17024\")>, <selenium.webdriver.remote.webelement.WebElement (session=\"eb8421dcd5aab10208c8b7148b0a9a21\", element=\"f.C7066B77FCF738EA409E43D536A2A5E8.d.BFBF2666D25E8F0FDB097403AA1A2584.e.17025\")>, <selenium.webdriver.remote.webelement.WebElement (session=\"eb8421dcd5aab10208c8b7148b0a9a21\", element=\"f.C7066B77FCF738EA409E43D536A2A5E8.d.BFBF2666D25E8F0FDB097403AA1A2584.e.17026\")>, <selenium.webdriver.remote.webelement.WebElement (session=\"eb8421dcd5aab10208c8b7148b0a9a21\", element=\"f.C7066B77FCF738EA409E43D536A2A5E8.d.BFBF2666D25E8F0FDB097403AA1A2584.e.17027\")>, <selenium.webdriver.remote.webelement.WebElement (session=\"eb8421dcd5aab10208c8b7148b0a9a21\", element=\"f.C7066B77FCF738EA409E43D536A2A5E8.d.BFBF2666D25E8F0FDB097403AA1A2584.e.17028\")>, <selenium.webdriver.remote.webelement.WebElement (session=\"eb8421dcd5aab10208c8b7148b0a9a21\", element=\"f.C7066B77FCF738EA409E43D536A2A5E8.d.BFBF2666D25E8F0FDB097403AA1A2584.e.17029\")>, <selenium.webdriver.remote.webelement.WebElement (session=\"eb8421dcd5aab10208c8b7148b0a9a21\", element=\"f.C7066B77FCF738EA409E43D536A2A5E8.d.BFBF2666D25E8F0FDB097403AA1A2584.e.17030\")>, <selenium.webdriver.remote.webelement.WebElement (session=\"eb8421dcd5aab10208c8b7148b0a9a21\", element=\"f.C7066B77FCF738EA409E43D536A2A5E8.d.BFBF2666D25E8F0FDB097403AA1A2584.e.17031\")>]\n"
     ]
    }
   ],
   "source": [
    "store_links = driver.find_elements(By.CSS_SELECTOR,'a.a-size-small.a-link-normal[aria-label=\"Opens a new page\"]')\n",
    "print(store_links)\n"
   ]
  },
  {
   "cell_type": "code",
   "execution_count": 29,
   "id": "f21d51bf-5271-447f-a345-06da3eae136a",
   "metadata": {},
   "outputs": [
    {
     "name": "stdout",
     "output_type": "stream",
     "text": [
      "['https://www.amazon.com/gp/aag/main?ie=UTF8&seller=AALK2JC9NLBX8&isAmazonFulfilled=1&asin=B004WKI7CM&ref_=olp_merch_name_0', 'https://www.amazon.com/gp/aag/main?ie=UTF8&seller=AALK2JC9NLBX8&isAmazonFulfilled=1&asin=B004WKI7CM&ref_=olp_merch_name_0', 'https://www.amazon.com/gp/aag/main?ie=UTF8&seller=A4YUOL2S3PO4O&isAmazonFulfilled=1&asin=B004WKI7CM&ref_=olp_merch_name_1', 'https://www.amazon.com/gp/aag/main?ie=UTF8&seller=A2HU2GF2MHUSGT&isAmazonFulfilled=1&asin=B004WKI7CM&ref_=olp_merch_name_2', 'https://www.amazon.com/gp/aag/main?ie=UTF8&seller=A320Y1BV3Z4UY5&isAmazonFulfilled=1&asin=B004WKI7CM&ref_=olp_merch_name_3', 'https://www.amazon.com/gp/aag/main?ie=UTF8&seller=A19UMQ1RPFABGA&isAmazonFulfilled=1&asin=B004WKI7CM&ref_=olp_merch_name_4', 'https://www.amazon.com/gp/aag/main?ie=UTF8&seller=A2OESALRTCOYZ6&isAmazonFulfilled=1&asin=B004WKI7CM&ref_=olp_merch_name_5', 'https://www.amazon.com/gp/aag/main?ie=UTF8&seller=A55GE1KBZZUU3&isAmazonFulfilled=1&asin=B004WKI7CM&ref_=olp_merch_name_6', 'https://www.amazon.com/gp/aag/main?ie=UTF8&seller=A1TFDIV70RAUOW&isAmazonFulfilled=1&asin=B004WKI7CM&ref_=olp_merch_name_7', 'https://www.amazon.com/gp/aag/main?ie=UTF8&seller=A2V97NX5IQA5NM&isAmazonFulfilled=1&asin=B004WKI7CM&ref_=olp_merch_name_8', 'https://www.amazon.com/gp/aag/main?ie=UTF8&seller=APFT9QL1K3VXH&isAmazonFulfilled=1&asin=B004WKI7CM&ref_=olp_merch_name_9', 'https://www.amazon.com/gp/aag/main?ie=UTF8&seller=A27J49L7A7JHBX&isAmazonFulfilled=1&asin=B004WKI7CM&ref_=olp_merch_name_10']\n"
     ]
    }
   ],
   "source": [
    "store_urls = [link.get_attribute('href') for link in store_links if link.get_attribute('href') is not None]\n",
    "print(store_urls)"
   ]
  },
  {
   "cell_type": "code",
   "execution_count": 115,
   "id": "1f72515d-728e-418a-af2f-060e3c3df1bd",
   "metadata": {},
   "outputs": [],
   "source": [
    "driver.get(store_urls[10])"
   ]
  },
  {
   "cell_type": "code",
   "execution_count": 116,
   "id": "08acf7d5-c0c7-496f-9112-ea241e51f8e2",
   "metadata": {},
   "outputs": [
    {
     "name": "stdout",
     "output_type": "stream",
     "text": [
      "<selenium.webdriver.remote.webelement.WebElement (session=\"eb8421dcd5aab10208c8b7148b0a9a21\", element=\"f.C7066B77FCF738EA409E43D536A2A5E8.d.9D94471415FE74DA721FA68806B2C624.e.257826\")>\n"
     ]
    }
   ],
   "source": [
    "seller_profile=WebDriverWait(driver,10).until(EC.presence_of_element_located((By.XPATH,'/html/body/div[1]/div[1]')))\n",
    "print(seller_profile)"
   ]
  },
  {
   "cell_type": "code",
   "execution_count": 117,
   "id": "7dd11014-3f72-4d19-838f-2d30ec049d8c",
   "metadata": {},
   "outputs": [],
   "source": [
    "seller_link=seller_profile.find_element(By.CSS_SELECTOR,'#seller-info-storefront-link > span')"
   ]
  },
  {
   "cell_type": "code",
   "execution_count": 118,
   "id": "93c6ee72-a401-4d69-a9da-f7f7b4d82f03",
   "metadata": {},
   "outputs": [],
   "source": [
    "seller_link.click()"
   ]
  },
  {
   "cell_type": "code",
   "execution_count": 120,
   "id": "d1c49e00-75d1-4aa8-bead-a4cb4bc37b95",
   "metadata": {},
   "outputs": [
    {
     "name": "stdout",
     "output_type": "stream",
     "text": [
      "<selenium.webdriver.remote.webelement.WebElement (session=\"eb8421dcd5aab10208c8b7148b0a9a21\", element=\"f.C7066B77FCF738EA409E43D536A2A5E8.d.CA3CC9DC3C2C6B68DD5B33D2539AAFDE.e.258054\")>\n"
     ]
    }
   ],
   "source": [
    "storefront_mainpage=WebDriverWait(driver,10).until(EC.presence_of_element_located((By.XPATH,'/html/body/div[1]/div[1]')\n",
    "                                                                                 ))\n",
    "print(storefront_mainpage)"
   ]
  },
  {
   "cell_type": "code",
   "execution_count": 121,
   "id": "27dc63a9-aeb9-417d-bba5-eca2d151b643",
   "metadata": {},
   "outputs": [
    {
     "name": "stdout",
     "output_type": "stream",
     "text": [
      "13\n",
      "Next Page Data Not Found.\n"
     ]
    }
   ],
   "source": [
    "try:\n",
    "    product_title= storefront_mainpage.find_elements(By.CSS_SELECTOR,'#search > div.s-desktop-width-max.s-desktop-content.s-opposite-dir.s-wide-grid-style.sg-row > div.sg-col-20-of-24.s-matching-dir.sg-col-16-of-20.sg-col.sg-col-8-of-12.sg-col-12-of-16 > div > span.rush-component.s-latency-cf-section > div.s-main-slot.s-result-list.s-search-results.sg-row > div.sg-col-20-of-24.s-result-item.s-asin.sg-col-0-of-12.sg-col-16-of-20.sg-col.s-widget-spacing-small.gsx-ies-anchor.sg-col-12-of-16 > div > div > span > div > div > div > div.puisg-col.puisg-col-4-of-12.puisg-col-8-of-16.puisg-col-12-of-20.puisg-col-12-of-24.puis-list-col-right > div > div > div.a-section.a-spacing-none.puis-padding-right-small.s-title-instructions-style > h2 > a > span')\n",
    "    print(len(product_title))\n",
    "    time.sleep(5)\n",
    "\n",
    "    next_page=driver.find_element(By.CSS_SELECTOR,'#search > div.s-desktop-width-max.s-desktop-content.s-opposite-dir.s-wide-grid-style.sg-row > div.sg-col-20-of-24.s-matching-dir.sg-col-16-of-20.sg-col.sg-col-8-of-12.sg-col-12-of-16 > div > span.rush-component.s-latency-cf-section > div.s-main-slot.s-result-list.s-search-results.sg-row > div:nth-child(22) > div > div > span > a.s-pagination-item.s-pagination-next.s-pagination-button.s-pagination-separator')\n",
    "    next_page.click()\n",
    "    time.sleep(3)\n",
    "\n",
    "    storefront_nextpage = WebDriverWait(driver,10).until(EC.presence_of_element_located((By.XPATH,'//*[@id=\"search\"]/div[1]/div[1]/div')))\n",
    "\n",
    "\n",
    "    next_pagetitle = storefront_nextpage.find_elements(By.CSS_SELECTOR,'#search > div.s-desktop-width-max.s-desktop-content.s-opposite-dir.s-wide-grid-style.sg-row > div.sg-col-20-of-24.s-matching-dir.sg-col-16-of-20.sg-col.sg-col-8-of-12.sg-col-12-of-16 > div > span.rush-component.s-latency-cf-section > div.s-main-slot.s-result-list.s-search-results.sg-row > div.sg-col-20-of-24.s-result-item.s-asin.sg-col-0-of-12.sg-col-16-of-20.sg-col.s-widget-spacing-small.gsx-ies-anchor.sg-col-12-of-16 > div > div > span > div > div > div > div.puisg-col.puisg-col-4-of-12.puisg-col-8-of-16.puisg-col-12-of-20.puisg-col-12-of-24.puis-list-col-right > div > div > div.a-section.a-spacing-none.puis-padding-right-small.s-title-instructions-style > h2 > a > span')\n",
    "    print(len(next_pagetitle))\n",
    "except Exception as e:\n",
    "    print(\"Next Page Data Not Found.\")\n",
    "    "
   ]
  },
  {
   "cell_type": "code",
   "execution_count": 122,
   "id": "e05ac816-1389-44bd-8662-c48f170eff8e",
   "metadata": {},
   "outputs": [
    {
     "name": "stdout",
     "output_type": "stream",
     "text": [
      "[<selenium.webdriver.remote.webelement.WebElement (session=\"eb8421dcd5aab10208c8b7148b0a9a21\", element=\"f.C7066B77FCF738EA409E43D536A2A5E8.d.CA3CC9DC3C2C6B68DD5B33D2539AAFDE.e.258112\")>]\n"
     ]
    }
   ],
   "source": [
    "title_link=storefront_mainpage.find_elements(By.CSS_SELECTOR,'#search > div.s-desktop-width-max.s-desktop-content.s-opposite-dir.s-wide-grid-style.sg-row > div.sg-col-20-of-24.s-matching-dir.sg-col-16-of-20.sg-col.sg-col-8-of-12.sg-col-12-of-16 > div > span.rush-component.s-latency-cf-section > div.s-main-slot.s-result-list.s-search-results.sg-row > div:nth-child(6) > div > div > span > div > div > div > div.puisg-col.puisg-col-4-of-12.puisg-col-8-of-16.puisg-col-12-of-20.puisg-col-12-of-24.puis-list-col-right > div > div > div.a-section.a-spacing-none.puis-padding-right-small.s-title-instructions-style > h2 > a')\n",
    "print(title_link)"
   ]
  },
  {
   "cell_type": "code",
   "execution_count": 123,
   "id": "5f8a786d-7463-42ab-b7d1-15a05627d5d9",
   "metadata": {},
   "outputs": [],
   "source": [
    "links=[link.get_attribute('href') for link in title_link if link.get_attribute('href') is not None]"
   ]
  },
  {
   "cell_type": "code",
   "execution_count": 97,
   "id": "06a465d8-0863-4c48-96b6-5a203f7916f5",
   "metadata": {},
   "outputs": [],
   "source": [
    "for title_link in title_link:\n",
    "    title_link.click()"
   ]
  },
  {
   "cell_type": "code",
   "execution_count": 98,
   "id": "c100b95c-ecc1-4571-b0df-7b240c15afbc",
   "metadata": {},
   "outputs": [
    {
     "name": "stdout",
     "output_type": "stream",
     "text": [
      "Simply Stylin' Light Silk Hair Spray - Anti-Frizz Silicone Heat Protectant - Hair Detangler for Women and Synthetic Wigs - 4 fl oz\n"
     ]
    }
   ],
   "source": [
    "title = driver.find_element(By.ID,\"productTitle\")\n",
    "print(title.text)"
   ]
  },
  {
   "cell_type": "code",
   "execution_count": 99,
   "id": "2ff3007d-29d8-460d-8b4e-2ad28fd4d91e",
   "metadata": {},
   "outputs": [
    {
     "name": "stdout",
     "output_type": "stream",
     "text": [
      "Brand: Simply Stylin'\n"
     ]
    }
   ],
   "source": [
    "brand_name=driver.find_element(By.XPATH,'//*[@id=\"bylineInfo_feature_div\"]/div')\n",
    "print(brand_name.text)"
   ]
  },
  {
   "cell_type": "code",
   "execution_count": 100,
   "id": "13d0f562-e1a9-44b3-9cf0-bb6333313adc",
   "metadata": {},
   "outputs": [
    {
     "name": "stdout",
     "output_type": "stream",
     "text": [
      "3,190 ratings\n"
     ]
    }
   ],
   "source": [
    "review_counts = driver.find_element(By.ID,'acrCustomerReviewText')\n",
    "print(review_counts.text)"
   ]
  },
  {
   "cell_type": "code",
   "execution_count": 101,
   "id": "254aaa65-be1d-41d0-ad2e-489dad163f42",
   "metadata": {},
   "outputs": [
    {
     "name": "stdout",
     "output_type": "stream",
     "text": [
      "4.5\n"
     ]
    }
   ],
   "source": [
    "rating = driver.find_element(By.CSS_SELECTOR,'#acrPopover > span.a-declarative > a > span')\n",
    "print(rating.text)"
   ]
  },
  {
   "cell_type": "code",
   "execution_count": 102,
   "id": "381c41db-e36a-422d-bcfc-ef9f6a0465df",
   "metadata": {},
   "outputs": [
    {
     "name": "stdout",
     "output_type": "stream",
     "text": [
      "1K+ bought in past month\n"
     ]
    }
   ],
   "source": [
    "sales = driver.find_element(By.ID,'social-proofing-faceout-title-tk_bought')\n",
    "print(sales.text)"
   ]
  },
  {
   "cell_type": "code",
   "execution_count": 103,
   "id": "db3914eb-236f-4a80-96dd-1a1c5cb093cc",
   "metadata": {},
   "outputs": [
    {
     "name": "stdout",
     "output_type": "stream",
     "text": [
      "$18\n",
      "99\n"
     ]
    }
   ],
   "source": [
    "price = driver.find_element(By.CSS_SELECTOR,'#corePriceDisplay_desktop_feature_div > div.a-section.a-spacing-none.aok-align-center.aok-relative > span.a-price.aok-align-center.reinventPricePriceToPayMargin.priceToPay')\n",
    "print(price.text)"
   ]
  },
  {
   "cell_type": "code",
   "execution_count": 104,
   "id": "e5bcc6e9-d467-46b1-ac3f-f5c498ee6a14",
   "metadata": {},
   "outputs": [
    {
     "name": "stdout",
     "output_type": "stream",
     "text": [
      "B004WKI7CM\n"
     ]
    }
   ],
   "source": [
    "asin = driver.find_element(By.CSS_SELECTOR,'#detailBullets_feature_div > ul > li:nth-child(6) > span > span:nth-child(2)')\n",
    "print(asin.text)"
   ]
  },
  {
   "cell_type": "code",
   "execution_count": 105,
   "id": "2c712cf0-2b56-45fd-a078-2f91ad030f91",
   "metadata": {},
   "outputs": [
    {
     "name": "stdout",
     "output_type": "stream",
     "text": [
      "Best Sellers Rank: #20,180 in Beauty & Personal Care (See Top 100 in Beauty & Personal Care)\n",
      "#41 in Hair Thermal Protection Sprays\n"
     ]
    }
   ],
   "source": [
    "bsr = driver.find_element(By.CSS_SELECTOR,'#detailBulletsWrapper_feature_div > ul:nth-child(4) > li > span')\n",
    "print(bsr.text)"
   ]
  },
  {
   "cell_type": "code",
   "execution_count": 106,
   "id": "8f92615f-4c2a-4bc6-8d7c-d6a9ea8bcddd",
   "metadata": {},
   "outputs": [],
   "source": [
    "driver.back()"
   ]
  },
  {
   "cell_type": "code",
   "execution_count": 124,
   "id": "3bf83e6e-5fe9-4386-ace0-a357a5d1bb07",
   "metadata": {},
   "outputs": [],
   "source": [
    "all_products = WebDriverWait(driver,10).until(EC.presence_of_element_located((By.XPATH,'//*[@id=\"search\"]/div[1]')))"
   ]
  },
  {
   "cell_type": "code",
   "execution_count": 125,
   "id": "2b334f53-3184-4c8f-8785-daeabf7936a5",
   "metadata": {},
   "outputs": [
    {
     "data": {
      "text/plain": [
       "<selenium.webdriver.remote.webelement.WebElement (session=\"eb8421dcd5aab10208c8b7148b0a9a21\", element=\"f.C7066B77FCF738EA409E43D536A2A5E8.d.CA3CC9DC3C2C6B68DD5B33D2539AAFDE.e.258070\")>"
      ]
     },
     "execution_count": 125,
     "metadata": {},
     "output_type": "execute_result"
    }
   ],
   "source": [
    "all_products"
   ]
  },
  {
   "cell_type": "code",
   "execution_count": 126,
   "id": "a74442e5-e6ab-4c22-bc72-f01249ed1fea",
   "metadata": {},
   "outputs": [],
   "source": [
    "all_links = driver.find_elements(By.CSS_SELECTOR, 'a.a-link-normal.s-underline-text.s-underline-link-text.s-link-style.a-text-normal')\n"
   ]
  },
  {
   "cell_type": "code",
   "execution_count": 127,
   "id": "155d0ed5-f793-4364-9687-721a196017dd",
   "metadata": {},
   "outputs": [
    {
     "name": "stdout",
     "output_type": "stream",
     "text": [
      "https://www.amazon.com/Simply-Stylin-Light-Silk-Spray/dp/B004WKI7CM/ref=sr_1_1?dib=eyJ2IjoiMSJ9.e_8RiT12-oib4IYmFiUhmLFJvZHgRaOC4CO7mI3Fiepz8w1vauuxKNyijUc-LMwIhwTV6_2iSLlYHHn9_vocWfW3ZiHpzZybSTbD36c56JI_7cr5bBzWoCDwgyQQdPGGAdaym6l44ncOt9Gkd3I952VDUxGYCKeP1Mis8_QeXsA4Kwfy5icZgSbsP3c_xPGS.4MTPMTRl7HYXj_2AEqZsaz2MHQ87FPCFI3Q41zVmIws&dib_tag=se&m=APFT9QL1K3VXH&marketplaceID=ATVPDKIKX0DER&qid=1730855187&s=merchant-items&sr=1-1\n",
      "https://www.amazon.com/Simply-Stylin-Light-Silk-Spray/dp/B004WKI7CM/ref=sr_1_1?dib=eyJ2IjoiMSJ9.e_8RiT12-oib4IYmFiUhmLFJvZHgRaOC4CO7mI3Fiepz8w1vauuxKNyijUc-LMwIhwTV6_2iSLlYHHn9_vocWfW3ZiHpzZybSTbD36c56JI_7cr5bBzWoCDwgyQQdPGGAdaym6l44ncOt9Gkd3I952VDUxGYCKeP1Mis8_QeXsA4Kwfy5icZgSbsP3c_xPGS.4MTPMTRl7HYXj_2AEqZsaz2MHQ87FPCFI3Q41zVmIws&dib_tag=se&m=APFT9QL1K3VXH&marketplaceID=ATVPDKIKX0DER&qid=1730855187&s=merchant-items&sr=1-1\n",
      "https://www.amazon.com/Jacquard-JCY1100-Cyanotype-Set/dp/B010MN312S/ref=sr_1_2?dib=eyJ2IjoiMSJ9.e_8RiT12-oib4IYmFiUhmLFJvZHgRaOC4CO7mI3Fiepz8w1vauuxKNyijUc-LMwIhwTV6_2iSLlYHHn9_vocWfW3ZiHpzZybSTbD36c56JI_7cr5bBzWoCDwgyQQdPGGAdaym6l44ncOt9Gkd3I952VDUxGYCKeP1Mis8_QeXsA4Kwfy5icZgSbsP3c_xPGS.4MTPMTRl7HYXj_2AEqZsaz2MHQ87FPCFI3Q41zVmIws&dib_tag=se&m=APFT9QL1K3VXH&marketplaceID=ATVPDKIKX0DER&qid=1730855187&s=merchant-items&sr=1-2\n",
      "https://www.amazon.com/Jacquard-JCY1100-Cyanotype-Set/dp/B010MN312S/ref=sr_1_2?dib=eyJ2IjoiMSJ9.e_8RiT12-oib4IYmFiUhmLFJvZHgRaOC4CO7mI3Fiepz8w1vauuxKNyijUc-LMwIhwTV6_2iSLlYHHn9_vocWfW3ZiHpzZybSTbD36c56JI_7cr5bBzWoCDwgyQQdPGGAdaym6l44ncOt9Gkd3I952VDUxGYCKeP1Mis8_QeXsA4Kwfy5icZgSbsP3c_xPGS.4MTPMTRl7HYXj_2AEqZsaz2MHQ87FPCFI3Q41zVmIws&dib_tag=se&m=APFT9QL1K3VXH&marketplaceID=ATVPDKIKX0DER&qid=1730855187&s=merchant-items&sr=1-2\n",
      "https://www.amazon.com/Jacquard-Fabric-Cotton-Sheets-Pack/dp/B002201YEC/ref=sr_1_3?dib=eyJ2IjoiMSJ9.e_8RiT12-oib4IYmFiUhmLFJvZHgRaOC4CO7mI3Fiepz8w1vauuxKNyijUc-LMwIhwTV6_2iSLlYHHn9_vocWfW3ZiHpzZybSTbD36c56JI_7cr5bBzWoCDwgyQQdPGGAdaym6l44ncOt9Gkd3I952VDUxGYCKeP1Mis8_QeXsA4Kwfy5icZgSbsP3c_xPGS.4MTPMTRl7HYXj_2AEqZsaz2MHQ87FPCFI3Q41zVmIws&dib_tag=se&m=APFT9QL1K3VXH&marketplaceID=ATVPDKIKX0DER&qid=1730855187&s=merchant-items&sr=1-3\n",
      "https://www.amazon.com/Jacquard-Fabric-Cotton-Sheets-Pack/dp/B002201YEC/ref=sr_1_3?dib=eyJ2IjoiMSJ9.e_8RiT12-oib4IYmFiUhmLFJvZHgRaOC4CO7mI3Fiepz8w1vauuxKNyijUc-LMwIhwTV6_2iSLlYHHn9_vocWfW3ZiHpzZybSTbD36c56JI_7cr5bBzWoCDwgyQQdPGGAdaym6l44ncOt9Gkd3I952VDUxGYCKeP1Mis8_QeXsA4Kwfy5icZgSbsP3c_xPGS.4MTPMTRl7HYXj_2AEqZsaz2MHQ87FPCFI3Q41zVmIws&dib_tag=se&m=APFT9QL1K3VXH&marketplaceID=ATVPDKIKX0DER&qid=1730855187&s=merchant-items&sr=1-3\n",
      "https://www.amazon.com/Jacquard-Fabric-Paint-Clothes-Exceptionally/dp/B007RHAGIU/ref=sr_1_4?dib=eyJ2IjoiMSJ9.e_8RiT12-oib4IYmFiUhmLFJvZHgRaOC4CO7mI3Fiepz8w1vauuxKNyijUc-LMwIhwTV6_2iSLlYHHn9_vocWfW3ZiHpzZybSTbD36c56JI_7cr5bBzWoCDwgyQQdPGGAdaym6l44ncOt9Gkd3I952VDUxGYCKeP1Mis8_QeXsA4Kwfy5icZgSbsP3c_xPGS.4MTPMTRl7HYXj_2AEqZsaz2MHQ87FPCFI3Q41zVmIws&dib_tag=se&m=APFT9QL1K3VXH&marketplaceID=ATVPDKIKX0DER&qid=1730855187&s=merchant-items&sr=1-4\n",
      "https://www.amazon.com/Jacquard-Fabric-Paint-Clothes-Exceptionally/dp/B007RHAGIU/ref=sr_1_4?dib=eyJ2IjoiMSJ9.e_8RiT12-oib4IYmFiUhmLFJvZHgRaOC4CO7mI3Fiepz8w1vauuxKNyijUc-LMwIhwTV6_2iSLlYHHn9_vocWfW3ZiHpzZybSTbD36c56JI_7cr5bBzWoCDwgyQQdPGGAdaym6l44ncOt9Gkd3I952VDUxGYCKeP1Mis8_QeXsA4Kwfy5icZgSbsP3c_xPGS.4MTPMTRl7HYXj_2AEqZsaz2MHQ87FPCFI3Q41zVmIws&dib_tag=se&m=APFT9QL1K3VXH&marketplaceID=ATVPDKIKX0DER&qid=1730855187&s=merchant-items&sr=1-4\n",
      "https://www.amazon.com/Jacquard-Fabric-Cotton-Sheets-Pack/dp/B0015AOPDM/ref=sr_1_5?dib=eyJ2IjoiMSJ9.e_8RiT12-oib4IYmFiUhmLFJvZHgRaOC4CO7mI3Fiepz8w1vauuxKNyijUc-LMwIhwTV6_2iSLlYHHn9_vocWfW3ZiHpzZybSTbD36c56JI_7cr5bBzWoCDwgyQQdPGGAdaym6l44ncOt9Gkd3I952VDUxGYCKeP1Mis8_QeXsA4Kwfy5icZgSbsP3c_xPGS.4MTPMTRl7HYXj_2AEqZsaz2MHQ87FPCFI3Q41zVmIws&dib_tag=se&m=APFT9QL1K3VXH&marketplaceID=ATVPDKIKX0DER&qid=1730855187&s=merchant-items&sr=1-5\n",
      "https://www.amazon.com/Jacquard-Fabric-Cotton-Sheets-Pack/dp/B0015AOPDM/ref=sr_1_5?dib=eyJ2IjoiMSJ9.e_8RiT12-oib4IYmFiUhmLFJvZHgRaOC4CO7mI3Fiepz8w1vauuxKNyijUc-LMwIhwTV6_2iSLlYHHn9_vocWfW3ZiHpzZybSTbD36c56JI_7cr5bBzWoCDwgyQQdPGGAdaym6l44ncOt9Gkd3I952VDUxGYCKeP1Mis8_QeXsA4Kwfy5icZgSbsP3c_xPGS.4MTPMTRl7HYXj_2AEqZsaz2MHQ87FPCFI3Q41zVmIws&dib_tag=se&m=APFT9QL1K3VXH&marketplaceID=ATVPDKIKX0DER&qid=1730855187&s=merchant-items&sr=1-5\n",
      "https://www.amazon.com/Jacquard-PMX108S-Procion-8-Color-Set/dp/B08B4X391V/ref=sr_1_6?dib=eyJ2IjoiMSJ9.e_8RiT12-oib4IYmFiUhmLFJvZHgRaOC4CO7mI3Fiepz8w1vauuxKNyijUc-LMwIhwTV6_2iSLlYHHn9_vocWfW3ZiHpzZybSTbD36c56JI_7cr5bBzWoCDwgyQQdPGGAdaym6l44ncOt9Gkd3I952VDUxGYCKeP1Mis8_QeXsA4Kwfy5icZgSbsP3c_xPGS.4MTPMTRl7HYXj_2AEqZsaz2MHQ87FPCFI3Q41zVmIws&dib_tag=se&m=APFT9QL1K3VXH&marketplaceID=ATVPDKIKX0DER&qid=1730855187&s=merchant-items&sr=1-6\n",
      "https://www.amazon.com/Jacquard-PMX108S-Procion-8-Color-Set/dp/B08B4X391V/ref=sr_1_6?dib=eyJ2IjoiMSJ9.e_8RiT12-oib4IYmFiUhmLFJvZHgRaOC4CO7mI3Fiepz8w1vauuxKNyijUc-LMwIhwTV6_2iSLlYHHn9_vocWfW3ZiHpzZybSTbD36c56JI_7cr5bBzWoCDwgyQQdPGGAdaym6l44ncOt9Gkd3I952VDUxGYCKeP1Mis8_QeXsA4Kwfy5icZgSbsP3c_xPGS.4MTPMTRl7HYXj_2AEqZsaz2MHQ87FPCFI3Q41zVmIws&dib_tag=se&m=APFT9QL1K3VXH&marketplaceID=ATVPDKIKX0DER&qid=1730855187&s=merchant-items&sr=1-6\n",
      "https://www.amazon.com/Nature-Cure-Bee-Caps-Caplet/dp/B000GVQZL6/ref=sr_1_7?dib=eyJ2IjoiMSJ9.e_8RiT12-oib4IYmFiUhmLFJvZHgRaOC4CO7mI3Fiepz8w1vauuxKNyijUc-LMwIhwTV6_2iSLlYHHn9_vocWfW3ZiHpzZybSTbD36c56JI_7cr5bBzWoCDwgyQQdPGGAdaym6l44ncOt9Gkd3I952VDUxGYCKeP1Mis8_QeXsA4Kwfy5icZgSbsP3c_xPGS.4MTPMTRl7HYXj_2AEqZsaz2MHQ87FPCFI3Q41zVmIws&dib_tag=se&m=APFT9QL1K3VXH&marketplaceID=ATVPDKIKX0DER&qid=1730855187&s=merchant-items&sr=1-7\n",
      "https://www.amazon.com/Nature-Cure-Bee-Caps-Caplet/dp/B000GVQZL6/ref=sr_1_7?dib=eyJ2IjoiMSJ9.e_8RiT12-oib4IYmFiUhmLFJvZHgRaOC4CO7mI3Fiepz8w1vauuxKNyijUc-LMwIhwTV6_2iSLlYHHn9_vocWfW3ZiHpzZybSTbD36c56JI_7cr5bBzWoCDwgyQQdPGGAdaym6l44ncOt9Gkd3I952VDUxGYCKeP1Mis8_QeXsA4Kwfy5icZgSbsP3c_xPGS.4MTPMTRl7HYXj_2AEqZsaz2MHQ87FPCFI3Q41zVmIws&dib_tag=se&m=APFT9QL1K3VXH&marketplaceID=ATVPDKIKX0DER&qid=1730855187&s=merchant-items&sr=1-7\n",
      "https://www.amazon.com/Valco-Cincinnati-Tube-Grip-Industrial-Dispenser/dp/B007IQ4XWK/ref=sr_1_8?dib=eyJ2IjoiMSJ9.e_8RiT12-oib4IYmFiUhmLFJvZHgRaOC4CO7mI3Fiepz8w1vauuxKNyijUc-LMwIhwTV6_2iSLlYHHn9_vocWfW3ZiHpzZybSTbD36c56JI_7cr5bBzWoCDwgyQQdPGGAdaym6l44ncOt9Gkd3I952VDUxGYCKeP1Mis8_QeXsA4Kwfy5icZgSbsP3c_xPGS.4MTPMTRl7HYXj_2AEqZsaz2MHQ87FPCFI3Q41zVmIws&dib_tag=se&m=APFT9QL1K3VXH&marketplaceID=ATVPDKIKX0DER&qid=1730855187&s=merchant-items&sr=1-8\n",
      "https://www.amazon.com/Valco-Cincinnati-Tube-Grip-Industrial-Dispenser/dp/B007IQ4XWK/ref=sr_1_8?dib=eyJ2IjoiMSJ9.e_8RiT12-oib4IYmFiUhmLFJvZHgRaOC4CO7mI3Fiepz8w1vauuxKNyijUc-LMwIhwTV6_2iSLlYHHn9_vocWfW3ZiHpzZybSTbD36c56JI_7cr5bBzWoCDwgyQQdPGGAdaym6l44ncOt9Gkd3I952VDUxGYCKeP1Mis8_QeXsA4Kwfy5icZgSbsP3c_xPGS.4MTPMTRl7HYXj_2AEqZsaz2MHQ87FPCFI3Q41zVmIws&dib_tag=se&m=APFT9QL1K3VXH&marketplaceID=ATVPDKIKX0DER&qid=1730855187&s=merchant-items&sr=1-8\n",
      "https://www.amazon.com/Jacquard-4336922080-Textile-Paint-White/dp/B0026A7OVK/ref=sr_1_9?dib=eyJ2IjoiMSJ9.e_8RiT12-oib4IYmFiUhmLFJvZHgRaOC4CO7mI3Fiepz8w1vauuxKNyijUc-LMwIhwTV6_2iSLlYHHn9_vocWfW3ZiHpzZybSTbD36c56JI_7cr5bBzWoCDwgyQQdPGGAdaym6l44ncOt9Gkd3I952VDUxGYCKeP1Mis8_QeXsA4Kwfy5icZgSbsP3c_xPGS.4MTPMTRl7HYXj_2AEqZsaz2MHQ87FPCFI3Q41zVmIws&dib_tag=se&m=APFT9QL1K3VXH&marketplaceID=ATVPDKIKX0DER&qid=1730855187&s=merchant-items&sr=1-9\n",
      "https://www.amazon.com/Jacquard-4336922080-Textile-Paint-White/dp/B0026A7OVK/ref=sr_1_9?dib=eyJ2IjoiMSJ9.e_8RiT12-oib4IYmFiUhmLFJvZHgRaOC4CO7mI3Fiepz8w1vauuxKNyijUc-LMwIhwTV6_2iSLlYHHn9_vocWfW3ZiHpzZybSTbD36c56JI_7cr5bBzWoCDwgyQQdPGGAdaym6l44ncOt9Gkd3I952VDUxGYCKeP1Mis8_QeXsA4Kwfy5icZgSbsP3c_xPGS.4MTPMTRl7HYXj_2AEqZsaz2MHQ87FPCFI3Q41zVmIws&dib_tag=se&m=APFT9QL1K3VXH&marketplaceID=ATVPDKIKX0DER&qid=1730855187&s=merchant-items&sr=1-9\n",
      "https://www.amazon.com/Shiitake-Mushroom-Crisps-Lightly-Seasoned/dp/B07PDT9R4W/ref=sr_1_10?dib=eyJ2IjoiMSJ9.e_8RiT12-oib4IYmFiUhmLFJvZHgRaOC4CO7mI3Fiepz8w1vauuxKNyijUc-LMwIhwTV6_2iSLlYHHn9_vocWfW3ZiHpzZybSTbD36c56JI_7cr5bBzWoCDwgyQQdPGGAdaym6l44ncOt9Gkd3I952VDUxGYCKeP1Mis8_QeXsA4Kwfy5icZgSbsP3c_xPGS.4MTPMTRl7HYXj_2AEqZsaz2MHQ87FPCFI3Q41zVmIws&dib_tag=se&m=APFT9QL1K3VXH&marketplaceID=ATVPDKIKX0DER&qid=1730855187&s=merchant-items&sr=1-10\n",
      "https://www.amazon.com/Shiitake-Mushroom-Crisps-Lightly-Seasoned/dp/B07PDT9R4W/ref=sr_1_10?dib=eyJ2IjoiMSJ9.e_8RiT12-oib4IYmFiUhmLFJvZHgRaOC4CO7mI3Fiepz8w1vauuxKNyijUc-LMwIhwTV6_2iSLlYHHn9_vocWfW3ZiHpzZybSTbD36c56JI_7cr5bBzWoCDwgyQQdPGGAdaym6l44ncOt9Gkd3I952VDUxGYCKeP1Mis8_QeXsA4Kwfy5icZgSbsP3c_xPGS.4MTPMTRl7HYXj_2AEqZsaz2MHQ87FPCFI3Q41zVmIws&dib_tag=se&m=APFT9QL1K3VXH&marketplaceID=ATVPDKIKX0DER&qid=1730855187&s=merchant-items&sr=1-10\n",
      "https://www.amazon.com/Procion-Color-Ounce-2-1lb-Instruction/dp/B07THBY8Z8/ref=sr_1_11?dib=eyJ2IjoiMSJ9.e_8RiT12-oib4IYmFiUhmLFJvZHgRaOC4CO7mI3Fiepz8w1vauuxKNyijUc-LMwIhwTV6_2iSLlYHHn9_vocWfW3ZiHpzZybSTbD36c56JI_7cr5bBzWoCDwgyQQdPGGAdaym6l44ncOt9Gkd3I952VDUxGYCKeP1Mis8_QeXsA4Kwfy5icZgSbsP3c_xPGS.4MTPMTRl7HYXj_2AEqZsaz2MHQ87FPCFI3Q41zVmIws&dib_tag=se&m=APFT9QL1K3VXH&marketplaceID=ATVPDKIKX0DER&qid=1730855187&s=merchant-items&sr=1-11\n",
      "https://www.amazon.com/Procion-Color-Ounce-2-1lb-Instruction/dp/B07THBY8Z8/ref=sr_1_11?dib=eyJ2IjoiMSJ9.e_8RiT12-oib4IYmFiUhmLFJvZHgRaOC4CO7mI3Fiepz8w1vauuxKNyijUc-LMwIhwTV6_2iSLlYHHn9_vocWfW3ZiHpzZybSTbD36c56JI_7cr5bBzWoCDwgyQQdPGGAdaym6l44ncOt9Gkd3I952VDUxGYCKeP1Mis8_QeXsA4Kwfy5icZgSbsP3c_xPGS.4MTPMTRl7HYXj_2AEqZsaz2MHQ87FPCFI3Q41zVmIws&dib_tag=se&m=APFT9QL1K3VXH&marketplaceID=ATVPDKIKX0DER&qid=1730855187&s=merchant-items&sr=1-11\n",
      "https://www.amazon.com/Jacquard-Ferric-Ammonium-Citrate-8-Ounce/dp/B010MN2WLO/ref=sr_1_12?dib=eyJ2IjoiMSJ9.e_8RiT12-oib4IYmFiUhmLFJvZHgRaOC4CO7mI3Fiepz8w1vauuxKNyijUc-LMwIhwTV6_2iSLlYHHn9_vocWfW3ZiHpzZybSTbD36c56JI_7cr5bBzWoCDwgyQQdPGGAdaym6l44ncOt9Gkd3I952VDUxGYCKeP1Mis8_QeXsA4Kwfy5icZgSbsP3c_xPGS.4MTPMTRl7HYXj_2AEqZsaz2MHQ87FPCFI3Q41zVmIws&dib_tag=se&m=APFT9QL1K3VXH&marketplaceID=ATVPDKIKX0DER&qid=1730855187&s=merchant-items&sr=1-12\n",
      "https://www.amazon.com/Jacquard-Ferric-Ammonium-Citrate-8-Ounce/dp/B010MN2WLO/ref=sr_1_12?dib=eyJ2IjoiMSJ9.e_8RiT12-oib4IYmFiUhmLFJvZHgRaOC4CO7mI3Fiepz8w1vauuxKNyijUc-LMwIhwTV6_2iSLlYHHn9_vocWfW3ZiHpzZybSTbD36c56JI_7cr5bBzWoCDwgyQQdPGGAdaym6l44ncOt9Gkd3I952VDUxGYCKeP1Mis8_QeXsA4Kwfy5icZgSbsP3c_xPGS.4MTPMTRl7HYXj_2AEqZsaz2MHQ87FPCFI3Q41zVmIws&dib_tag=se&m=APFT9QL1K3VXH&marketplaceID=ATVPDKIKX0DER&qid=1730855187&s=merchant-items&sr=1-12\n",
      "https://www.amazon.com/Jacquard-Lumiere-Pack-Light-bodied-Lightfast/dp/B00CYJIMIM/ref=sr_1_13?dib=eyJ2IjoiMSJ9.e_8RiT12-oib4IYmFiUhmLFJvZHgRaOC4CO7mI3Fiepz8w1vauuxKNyijUc-LMwIhwTV6_2iSLlYHHn9_vocWfW3ZiHpzZybSTbD36c56JI_7cr5bBzWoCDwgyQQdPGGAdaym6l44ncOt9Gkd3I952VDUxGYCKeP1Mis8_QeXsA4Kwfy5icZgSbsP3c_xPGS.4MTPMTRl7HYXj_2AEqZsaz2MHQ87FPCFI3Q41zVmIws&dib_tag=se&m=APFT9QL1K3VXH&marketplaceID=ATVPDKIKX0DER&qid=1730855187&s=merchant-items&sr=1-13\n",
      "https://www.amazon.com/Jacquard-Lumiere-Pack-Light-bodied-Lightfast/dp/B00CYJIMIM/ref=sr_1_13?dib=eyJ2IjoiMSJ9.e_8RiT12-oib4IYmFiUhmLFJvZHgRaOC4CO7mI3Fiepz8w1vauuxKNyijUc-LMwIhwTV6_2iSLlYHHn9_vocWfW3ZiHpzZybSTbD36c56JI_7cr5bBzWoCDwgyQQdPGGAdaym6l44ncOt9Gkd3I952VDUxGYCKeP1Mis8_QeXsA4Kwfy5icZgSbsP3c_xPGS.4MTPMTRl7HYXj_2AEqZsaz2MHQ87FPCFI3Q41zVmIws&dib_tag=se&m=APFT9QL1K3VXH&marketplaceID=ATVPDKIKX0DER&qid=1730855187&s=merchant-items&sr=1-13\n"
     ]
    }
   ],
   "source": [
    "product_links = [link.get_attribute('href') for link in all_links]\n",
    "\n",
    "for link in product_links:\n",
    "    print(link)\n"
   ]
  },
  {
   "cell_type": "code",
   "execution_count": 128,
   "id": "820b956e-499f-4abf-86e8-61b508578fe7",
   "metadata": {},
   "outputs": [],
   "source": [
    "product_titles = []\n",
    "brand_names = []\n",
    "review_counts_list = []\n",
    "ratings_list = []\n",
    "sales_list = []\n",
    "prices_list = []\n",
    "asins_list = []\n",
    "bsrs_list = []"
   ]
  },
  {
   "cell_type": "code",
   "execution_count": 129,
   "id": "d44ae0a9-b874-415c-96e7-c995e17d963f",
   "metadata": {},
   "outputs": [
    {
     "name": "stdout",
     "output_type": "stream",
     "text": [
      "Opening product link at index 0: https://www.amazon.com/Simply-Stylin-Light-Silk-Spray/dp/B004WKI7CM/ref=sr_1_1?dib=eyJ2IjoiMSJ9.e_8RiT12-oib4IYmFiUhmLFJvZHgRaOC4CO7mI3Fiepz8w1vauuxKNyijUc-LMwIhwTV6_2iSLlYHHn9_vocWfW3ZiHpzZybSTbD36c56JI_7cr5bBzWoCDwgyQQdPGGAdaym6l44ncOt9Gkd3I952VDUxGYCKeP1Mis8_QeXsA4Kwfy5icZgSbsP3c_xPGS.4MTPMTRl7HYXj_2AEqZsaz2MHQ87FPCFI3Q41zVmIws&dib_tag=se&m=APFT9QL1K3VXH&marketplaceID=ATVPDKIKX0DER&qid=1730855187&s=merchant-items&sr=1-1\n",
      "Simply Stylin' Light Silk Hair Spray - Anti-Frizz Silicone Heat Protectant - Hair Detangler for Women and Synthetic Wigs - 4 fl oz\n",
      "Brand: Simply Stylin'\n",
      "3,190 ratings\n",
      "4.5\n",
      "1K+ bought in past month\n",
      "$18\n",
      "99\n",
      "B004WKI7CM\n",
      "Best Sellers Rank: #20,180 in Beauty & Personal Care (See Top 100 in Beauty & Personal Care)\n",
      "#41 in Hair Thermal Protection Sprays\n",
      "Opening product link at index 1: https://www.amazon.com/Simply-Stylin-Light-Silk-Spray/dp/B004WKI7CM/ref=sr_1_1?dib=eyJ2IjoiMSJ9.e_8RiT12-oib4IYmFiUhmLFJvZHgRaOC4CO7mI3Fiepz8w1vauuxKNyijUc-LMwIhwTV6_2iSLlYHHn9_vocWfW3ZiHpzZybSTbD36c56JI_7cr5bBzWoCDwgyQQdPGGAdaym6l44ncOt9Gkd3I952VDUxGYCKeP1Mis8_QeXsA4Kwfy5icZgSbsP3c_xPGS.4MTPMTRl7HYXj_2AEqZsaz2MHQ87FPCFI3Q41zVmIws&dib_tag=se&m=APFT9QL1K3VXH&marketplaceID=ATVPDKIKX0DER&qid=1730855187&s=merchant-items&sr=1-1\n",
      "Simply Stylin' Light Silk Hair Spray - Anti-Frizz Silicone Heat Protectant - Hair Detangler for Women and Synthetic Wigs - 4 fl oz\n",
      "Brand: Simply Stylin'\n",
      "3,190 ratings\n",
      "4.5\n",
      "1K+ bought in past month\n",
      "$18\n",
      "99\n",
      "B004WKI7CM\n",
      "Best Sellers Rank: #20,180 in Beauty & Personal Care (See Top 100 in Beauty & Personal Care)\n",
      "#41 in Hair Thermal Protection Sprays\n",
      "Opening product link at index 2: https://www.amazon.com/Jacquard-JCY1100-Cyanotype-Set/dp/B010MN312S/ref=sr_1_2?dib=eyJ2IjoiMSJ9.e_8RiT12-oib4IYmFiUhmLFJvZHgRaOC4CO7mI3Fiepz8w1vauuxKNyijUc-LMwIhwTV6_2iSLlYHHn9_vocWfW3ZiHpzZybSTbD36c56JI_7cr5bBzWoCDwgyQQdPGGAdaym6l44ncOt9Gkd3I952VDUxGYCKeP1Mis8_QeXsA4Kwfy5icZgSbsP3c_xPGS.4MTPMTRl7HYXj_2AEqZsaz2MHQ87FPCFI3Q41zVmIws&dib_tag=se&m=APFT9QL1K3VXH&marketplaceID=ATVPDKIKX0DER&qid=1730855187&s=merchant-items&sr=1-2\n",
      "Jacquard Cyanotype Sensitizer Set\n",
      "Visit the Jacquard Store\n",
      "2,315 ratings\n",
      "4.7\n",
      "700+ bought in past month\n",
      "$13\n",
      "66\n",
      "Some Data is Missing By Dynamic Element Change or position: Message: no such element: Unable to locate element: {\"method\":\"css selector\",\"selector\":\"#detailBullets_feature_div > ul > li:nth-child(6) > span > span:nth-child(2)\"}\n",
      "  (Session info: chrome=130.0.6723.92); For documentation on this error, please visit: https://www.selenium.dev/documentation/webdriver/troubleshooting/errors#no-such-element-exception\n",
      "Stacktrace:\n",
      "\tGetHandleVerifier [0x00007FF6B4213AB5+28005]\n",
      "\t(No symbol) [0x00007FF6B41783B0]\n",
      "\t(No symbol) [0x00007FF6B401580A]\n",
      "\t(No symbol) [0x00007FF6B4065A3E]\n",
      "\t(No symbol) [0x00007FF6B4065D2C]\n",
      "\t(No symbol) [0x00007FF6B40AEA97]\n",
      "\t(No symbol) [0x00007FF6B408BA7F]\n",
      "\t(No symbol) [0x00007FF6B40AB8B3]\n",
      "\t(No symbol) [0x00007FF6B408B7E3]\n",
      "\t(No symbol) [0x00007FF6B40575C8]\n",
      "\t(No symbol) [0x00007FF6B4058731]\n",
      "\tGetHandleVerifier [0x00007FF6B450643D+3118829]\n",
      "\tGetHandleVerifier [0x00007FF6B4556C90+3448640]\n",
      "\tGetHandleVerifier [0x00007FF6B454CF0D+3408317]\n",
      "\tGetHandleVerifier [0x00007FF6B42DA40B+841403]\n",
      "\t(No symbol) [0x00007FF6B418340F]\n",
      "\t(No symbol) [0x00007FF6B417F484]\n",
      "\t(No symbol) [0x00007FF6B417F61D]\n",
      "\t(No symbol) [0x00007FF6B416EB79]\n",
      "\tBaseThreadInitThunk [0x00007FFA3FF17374+20]\n",
      "\tRtlUserThreadStart [0x00007FFA4061CC91+33]\n",
      "\n",
      "Opening product link at index 3: https://www.amazon.com/Jacquard-JCY1100-Cyanotype-Set/dp/B010MN312S/ref=sr_1_2?dib=eyJ2IjoiMSJ9.e_8RiT12-oib4IYmFiUhmLFJvZHgRaOC4CO7mI3Fiepz8w1vauuxKNyijUc-LMwIhwTV6_2iSLlYHHn9_vocWfW3ZiHpzZybSTbD36c56JI_7cr5bBzWoCDwgyQQdPGGAdaym6l44ncOt9Gkd3I952VDUxGYCKeP1Mis8_QeXsA4Kwfy5icZgSbsP3c_xPGS.4MTPMTRl7HYXj_2AEqZsaz2MHQ87FPCFI3Q41zVmIws&dib_tag=se&m=APFT9QL1K3VXH&marketplaceID=ATVPDKIKX0DER&qid=1730855187&s=merchant-items&sr=1-2\n",
      "Jacquard Cyanotype Sensitizer Set\n",
      "Visit the Jacquard Store\n",
      "2,315 ratings\n",
      "4.7\n",
      "700+ bought in past month\n",
      "$13\n",
      "66\n",
      "Some Data is Missing By Dynamic Element Change or position: Message: no such element: Unable to locate element: {\"method\":\"css selector\",\"selector\":\"#detailBullets_feature_div > ul > li:nth-child(6) > span > span:nth-child(2)\"}\n",
      "  (Session info: chrome=130.0.6723.92); For documentation on this error, please visit: https://www.selenium.dev/documentation/webdriver/troubleshooting/errors#no-such-element-exception\n",
      "Stacktrace:\n",
      "\tGetHandleVerifier [0x00007FF6B4213AB5+28005]\n",
      "\t(No symbol) [0x00007FF6B41783B0]\n",
      "\t(No symbol) [0x00007FF6B401580A]\n",
      "\t(No symbol) [0x00007FF6B4065A3E]\n",
      "\t(No symbol) [0x00007FF6B4065D2C]\n",
      "\t(No symbol) [0x00007FF6B40AEA97]\n",
      "\t(No symbol) [0x00007FF6B408BA7F]\n",
      "\t(No symbol) [0x00007FF6B40AB8B3]\n",
      "\t(No symbol) [0x00007FF6B408B7E3]\n",
      "\t(No symbol) [0x00007FF6B40575C8]\n",
      "\t(No symbol) [0x00007FF6B4058731]\n",
      "\tGetHandleVerifier [0x00007FF6B450643D+3118829]\n",
      "\tGetHandleVerifier [0x00007FF6B4556C90+3448640]\n",
      "\tGetHandleVerifier [0x00007FF6B454CF0D+3408317]\n",
      "\tGetHandleVerifier [0x00007FF6B42DA40B+841403]\n",
      "\t(No symbol) [0x00007FF6B418340F]\n",
      "\t(No symbol) [0x00007FF6B417F484]\n",
      "\t(No symbol) [0x00007FF6B417F61D]\n",
      "\t(No symbol) [0x00007FF6B416EB79]\n",
      "\tBaseThreadInitThunk [0x00007FFA3FF17374+20]\n",
      "\tRtlUserThreadStart [0x00007FFA4061CC91+33]\n",
      "\n",
      "Opening product link at index 4: https://www.amazon.com/Jacquard-Fabric-Cotton-Sheets-Pack/dp/B002201YEC/ref=sr_1_3?dib=eyJ2IjoiMSJ9.e_8RiT12-oib4IYmFiUhmLFJvZHgRaOC4CO7mI3Fiepz8w1vauuxKNyijUc-LMwIhwTV6_2iSLlYHHn9_vocWfW3ZiHpzZybSTbD36c56JI_7cr5bBzWoCDwgyQQdPGGAdaym6l44ncOt9Gkd3I952VDUxGYCKeP1Mis8_QeXsA4Kwfy5icZgSbsP3c_xPGS.4MTPMTRl7HYXj_2AEqZsaz2MHQ87FPCFI3Q41zVmIws&dib_tag=se&m=APFT9QL1K3VXH&marketplaceID=ATVPDKIKX0DER&qid=1730855187&s=merchant-items&sr=1-3\n",
      "Jacquard Inkjet Cotton 8.5X11 10 Pack\n",
      "Visit the Jacquard Store\n",
      "1,579 ratings\n",
      "4.6\n",
      "400+ bought in past month\n",
      "$19\n",
      "99\n",
      "Some Data is Missing By Dynamic Element Change or position: Message: no such element: Unable to locate element: {\"method\":\"css selector\",\"selector\":\"#detailBullets_feature_div > ul > li:nth-child(6) > span > span:nth-child(2)\"}\n",
      "  (Session info: chrome=130.0.6723.92); For documentation on this error, please visit: https://www.selenium.dev/documentation/webdriver/troubleshooting/errors#no-such-element-exception\n",
      "Stacktrace:\n",
      "\tGetHandleVerifier [0x00007FF6B4213AB5+28005]\n",
      "\t(No symbol) [0x00007FF6B41783B0]\n",
      "\t(No symbol) [0x00007FF6B401580A]\n",
      "\t(No symbol) [0x00007FF6B4065A3E]\n",
      "\t(No symbol) [0x00007FF6B4065D2C]\n",
      "\t(No symbol) [0x00007FF6B40AEA97]\n",
      "\t(No symbol) [0x00007FF6B408BA7F]\n",
      "\t(No symbol) [0x00007FF6B40AB8B3]\n",
      "\t(No symbol) [0x00007FF6B408B7E3]\n",
      "\t(No symbol) [0x00007FF6B40575C8]\n",
      "\t(No symbol) [0x00007FF6B4058731]\n",
      "\tGetHandleVerifier [0x00007FF6B450643D+3118829]\n",
      "\tGetHandleVerifier [0x00007FF6B4556C90+3448640]\n",
      "\tGetHandleVerifier [0x00007FF6B454CF0D+3408317]\n",
      "\tGetHandleVerifier [0x00007FF6B42DA40B+841403]\n",
      "\t(No symbol) [0x00007FF6B418340F]\n",
      "\t(No symbol) [0x00007FF6B417F484]\n",
      "\t(No symbol) [0x00007FF6B417F61D]\n",
      "\t(No symbol) [0x00007FF6B416EB79]\n",
      "\tBaseThreadInitThunk [0x00007FFA3FF17374+20]\n",
      "\tRtlUserThreadStart [0x00007FFA4061CC91+33]\n",
      "\n",
      "Opening product link at index 5: https://www.amazon.com/Jacquard-Fabric-Cotton-Sheets-Pack/dp/B002201YEC/ref=sr_1_3?dib=eyJ2IjoiMSJ9.e_8RiT12-oib4IYmFiUhmLFJvZHgRaOC4CO7mI3Fiepz8w1vauuxKNyijUc-LMwIhwTV6_2iSLlYHHn9_vocWfW3ZiHpzZybSTbD36c56JI_7cr5bBzWoCDwgyQQdPGGAdaym6l44ncOt9Gkd3I952VDUxGYCKeP1Mis8_QeXsA4Kwfy5icZgSbsP3c_xPGS.4MTPMTRl7HYXj_2AEqZsaz2MHQ87FPCFI3Q41zVmIws&dib_tag=se&m=APFT9QL1K3VXH&marketplaceID=ATVPDKIKX0DER&qid=1730855187&s=merchant-items&sr=1-3\n",
      "Jacquard Inkjet Cotton 8.5X11 10 Pack\n",
      "Visit the Jacquard Store\n",
      "1,579 ratings\n",
      "4.6\n",
      "400+ bought in past month\n",
      "$19\n",
      "99\n",
      "Some Data is Missing By Dynamic Element Change or position: Message: no such element: Unable to locate element: {\"method\":\"css selector\",\"selector\":\"#detailBullets_feature_div > ul > li:nth-child(6) > span > span:nth-child(2)\"}\n",
      "  (Session info: chrome=130.0.6723.92); For documentation on this error, please visit: https://www.selenium.dev/documentation/webdriver/troubleshooting/errors#no-such-element-exception\n",
      "Stacktrace:\n",
      "\tGetHandleVerifier [0x00007FF6B4213AB5+28005]\n",
      "\t(No symbol) [0x00007FF6B41783B0]\n",
      "\t(No symbol) [0x00007FF6B401580A]\n",
      "\t(No symbol) [0x00007FF6B4065A3E]\n",
      "\t(No symbol) [0x00007FF6B4065D2C]\n",
      "\t(No symbol) [0x00007FF6B40AEA97]\n",
      "\t(No symbol) [0x00007FF6B408BA7F]\n",
      "\t(No symbol) [0x00007FF6B40AB8B3]\n",
      "\t(No symbol) [0x00007FF6B408B7E3]\n",
      "\t(No symbol) [0x00007FF6B40575C8]\n",
      "\t(No symbol) [0x00007FF6B4058731]\n",
      "\tGetHandleVerifier [0x00007FF6B450643D+3118829]\n",
      "\tGetHandleVerifier [0x00007FF6B4556C90+3448640]\n",
      "\tGetHandleVerifier [0x00007FF6B454CF0D+3408317]\n",
      "\tGetHandleVerifier [0x00007FF6B42DA40B+841403]\n",
      "\t(No symbol) [0x00007FF6B418340F]\n",
      "\t(No symbol) [0x00007FF6B417F484]\n",
      "\t(No symbol) [0x00007FF6B417F61D]\n",
      "\t(No symbol) [0x00007FF6B416EB79]\n",
      "\tBaseThreadInitThunk [0x00007FFA3FF17374+20]\n",
      "\tRtlUserThreadStart [0x00007FFA4061CC91+33]\n",
      "\n",
      "Opening product link at index 6: https://www.amazon.com/Jacquard-Fabric-Paint-Clothes-Exceptionally/dp/B007RHAGIU/ref=sr_1_4?dib=eyJ2IjoiMSJ9.e_8RiT12-oib4IYmFiUhmLFJvZHgRaOC4CO7mI3Fiepz8w1vauuxKNyijUc-LMwIhwTV6_2iSLlYHHn9_vocWfW3ZiHpzZybSTbD36c56JI_7cr5bBzWoCDwgyQQdPGGAdaym6l44ncOt9Gkd3I952VDUxGYCKeP1Mis8_QeXsA4Kwfy5icZgSbsP3c_xPGS.4MTPMTRl7HYXj_2AEqZsaz2MHQ87FPCFI3Q41zVmIws&dib_tag=se&m=APFT9QL1K3VXH&marketplaceID=ATVPDKIKX0DER&qid=1730855187&s=merchant-items&sr=1-4\n",
      "Jacquard Fabric Paint for Clothes - 2.25 Oz Textile Color Black Leaves Fabric Soft - Permanent and Colorfast - Professional Quality Paints Made in USA - Holds up Exceptionally Well to Washing\n",
      "Visit the Jacquard Store\n",
      "2,337 ratings\n",
      "4.3\n",
      "600+ bought in past month\n",
      "$7\n",
      "27\n",
      "Some Data is Missing By Dynamic Element Change or position: Message: no such element: Unable to locate element: {\"method\":\"css selector\",\"selector\":\"#detailBullets_feature_div > ul > li:nth-child(6) > span > span:nth-child(2)\"}\n",
      "  (Session info: chrome=130.0.6723.92); For documentation on this error, please visit: https://www.selenium.dev/documentation/webdriver/troubleshooting/errors#no-such-element-exception\n",
      "Stacktrace:\n",
      "\tGetHandleVerifier [0x00007FF6B4213AB5+28005]\n",
      "\t(No symbol) [0x00007FF6B41783B0]\n",
      "\t(No symbol) [0x00007FF6B401580A]\n",
      "\t(No symbol) [0x00007FF6B4065A3E]\n",
      "\t(No symbol) [0x00007FF6B4065D2C]\n",
      "\t(No symbol) [0x00007FF6B40AEA97]\n",
      "\t(No symbol) [0x00007FF6B408BA7F]\n",
      "\t(No symbol) [0x00007FF6B40AB8B3]\n",
      "\t(No symbol) [0x00007FF6B408B7E3]\n",
      "\t(No symbol) [0x00007FF6B40575C8]\n",
      "\t(No symbol) [0x00007FF6B4058731]\n",
      "\tGetHandleVerifier [0x00007FF6B450643D+3118829]\n",
      "\tGetHandleVerifier [0x00007FF6B4556C90+3448640]\n",
      "\tGetHandleVerifier [0x00007FF6B454CF0D+3408317]\n",
      "\tGetHandleVerifier [0x00007FF6B42DA40B+841403]\n",
      "\t(No symbol) [0x00007FF6B418340F]\n",
      "\t(No symbol) [0x00007FF6B417F484]\n",
      "\t(No symbol) [0x00007FF6B417F61D]\n",
      "\t(No symbol) [0x00007FF6B416EB79]\n",
      "\tBaseThreadInitThunk [0x00007FFA3FF17374+20]\n",
      "\tRtlUserThreadStart [0x00007FFA4061CC91+33]\n",
      "\n",
      "Opening product link at index 7: https://www.amazon.com/Jacquard-Fabric-Paint-Clothes-Exceptionally/dp/B007RHAGIU/ref=sr_1_4?dib=eyJ2IjoiMSJ9.e_8RiT12-oib4IYmFiUhmLFJvZHgRaOC4CO7mI3Fiepz8w1vauuxKNyijUc-LMwIhwTV6_2iSLlYHHn9_vocWfW3ZiHpzZybSTbD36c56JI_7cr5bBzWoCDwgyQQdPGGAdaym6l44ncOt9Gkd3I952VDUxGYCKeP1Mis8_QeXsA4Kwfy5icZgSbsP3c_xPGS.4MTPMTRl7HYXj_2AEqZsaz2MHQ87FPCFI3Q41zVmIws&dib_tag=se&m=APFT9QL1K3VXH&marketplaceID=ATVPDKIKX0DER&qid=1730855187&s=merchant-items&sr=1-4\n",
      "Jacquard Fabric Paint for Clothes - 2.25 Oz Textile Color Black Leaves Fabric Soft - Permanent and Colorfast - Professional Quality Paints Made in USA - Holds up Exceptionally Well to Washing\n",
      "Visit the Jacquard Store\n",
      "2,337 ratings\n",
      "4.3\n",
      "600+ bought in past month\n",
      "$7\n",
      "27\n",
      "Some Data is Missing By Dynamic Element Change or position: Message: no such element: Unable to locate element: {\"method\":\"css selector\",\"selector\":\"#detailBullets_feature_div > ul > li:nth-child(6) > span > span:nth-child(2)\"}\n",
      "  (Session info: chrome=130.0.6723.92); For documentation on this error, please visit: https://www.selenium.dev/documentation/webdriver/troubleshooting/errors#no-such-element-exception\n",
      "Stacktrace:\n",
      "\tGetHandleVerifier [0x00007FF6B4213AB5+28005]\n",
      "\t(No symbol) [0x00007FF6B41783B0]\n",
      "\t(No symbol) [0x00007FF6B401580A]\n",
      "\t(No symbol) [0x00007FF6B4065A3E]\n",
      "\t(No symbol) [0x00007FF6B4065D2C]\n",
      "\t(No symbol) [0x00007FF6B40AEA97]\n",
      "\t(No symbol) [0x00007FF6B408BA7F]\n",
      "\t(No symbol) [0x00007FF6B40AB8B3]\n",
      "\t(No symbol) [0x00007FF6B408B7E3]\n",
      "\t(No symbol) [0x00007FF6B40575C8]\n",
      "\t(No symbol) [0x00007FF6B4058731]\n",
      "\tGetHandleVerifier [0x00007FF6B450643D+3118829]\n",
      "\tGetHandleVerifier [0x00007FF6B4556C90+3448640]\n",
      "\tGetHandleVerifier [0x00007FF6B454CF0D+3408317]\n",
      "\tGetHandleVerifier [0x00007FF6B42DA40B+841403]\n",
      "\t(No symbol) [0x00007FF6B418340F]\n",
      "\t(No symbol) [0x00007FF6B417F484]\n",
      "\t(No symbol) [0x00007FF6B417F61D]\n",
      "\t(No symbol) [0x00007FF6B416EB79]\n",
      "\tBaseThreadInitThunk [0x00007FFA3FF17374+20]\n",
      "\tRtlUserThreadStart [0x00007FFA4061CC91+33]\n",
      "\n",
      "Opening product link at index 8: https://www.amazon.com/Jacquard-Fabric-Cotton-Sheets-Pack/dp/B0015AOPDM/ref=sr_1_5?dib=eyJ2IjoiMSJ9.e_8RiT12-oib4IYmFiUhmLFJvZHgRaOC4CO7mI3Fiepz8w1vauuxKNyijUc-LMwIhwTV6_2iSLlYHHn9_vocWfW3ZiHpzZybSTbD36c56JI_7cr5bBzWoCDwgyQQdPGGAdaym6l44ncOt9Gkd3I952VDUxGYCKeP1Mis8_QeXsA4Kwfy5icZgSbsP3c_xPGS.4MTPMTRl7HYXj_2AEqZsaz2MHQ87FPCFI3Q41zVmIws&dib_tag=se&m=APFT9QL1K3VXH&marketplaceID=ATVPDKIKX0DER&qid=1730855187&s=merchant-items&sr=1-5\n",
      "Jacquard Inkjet Printable Cotton Fabric, 8.5 by 11 inches, 30 Sheet Pack\n",
      "Visit the Jacquard Store\n",
      "741 ratings\n",
      "4.6\n",
      "200+ bought in past month\n",
      "$34\n",
      "98\n",
      "Some Data is Missing By Dynamic Element Change or position: Message: no such element: Unable to locate element: {\"method\":\"css selector\",\"selector\":\"#detailBullets_feature_div > ul > li:nth-child(6) > span > span:nth-child(2)\"}\n",
      "  (Session info: chrome=130.0.6723.92); For documentation on this error, please visit: https://www.selenium.dev/documentation/webdriver/troubleshooting/errors#no-such-element-exception\n",
      "Stacktrace:\n",
      "\tGetHandleVerifier [0x00007FF6B4213AB5+28005]\n",
      "\t(No symbol) [0x00007FF6B41783B0]\n",
      "\t(No symbol) [0x00007FF6B401580A]\n",
      "\t(No symbol) [0x00007FF6B4065A3E]\n",
      "\t(No symbol) [0x00007FF6B4065D2C]\n",
      "\t(No symbol) [0x00007FF6B40AEA97]\n",
      "\t(No symbol) [0x00007FF6B408BA7F]\n",
      "\t(No symbol) [0x00007FF6B40AB8B3]\n",
      "\t(No symbol) [0x00007FF6B408B7E3]\n",
      "\t(No symbol) [0x00007FF6B40575C8]\n",
      "\t(No symbol) [0x00007FF6B4058731]\n",
      "\tGetHandleVerifier [0x00007FF6B450643D+3118829]\n",
      "\tGetHandleVerifier [0x00007FF6B4556C90+3448640]\n",
      "\tGetHandleVerifier [0x00007FF6B454CF0D+3408317]\n",
      "\tGetHandleVerifier [0x00007FF6B42DA40B+841403]\n",
      "\t(No symbol) [0x00007FF6B418340F]\n",
      "\t(No symbol) [0x00007FF6B417F484]\n",
      "\t(No symbol) [0x00007FF6B417F61D]\n",
      "\t(No symbol) [0x00007FF6B416EB79]\n",
      "\tBaseThreadInitThunk [0x00007FFA3FF17374+20]\n",
      "\tRtlUserThreadStart [0x00007FFA4061CC91+33]\n",
      "\n",
      "Opening product link at index 9: https://www.amazon.com/Jacquard-Fabric-Cotton-Sheets-Pack/dp/B0015AOPDM/ref=sr_1_5?dib=eyJ2IjoiMSJ9.e_8RiT12-oib4IYmFiUhmLFJvZHgRaOC4CO7mI3Fiepz8w1vauuxKNyijUc-LMwIhwTV6_2iSLlYHHn9_vocWfW3ZiHpzZybSTbD36c56JI_7cr5bBzWoCDwgyQQdPGGAdaym6l44ncOt9Gkd3I952VDUxGYCKeP1Mis8_QeXsA4Kwfy5icZgSbsP3c_xPGS.4MTPMTRl7HYXj_2AEqZsaz2MHQ87FPCFI3Q41zVmIws&dib_tag=se&m=APFT9QL1K3VXH&marketplaceID=ATVPDKIKX0DER&qid=1730855187&s=merchant-items&sr=1-5\n",
      "Jacquard Inkjet Printable Cotton Fabric, 8.5 by 11 inches, 30 Sheet Pack\n",
      "Visit the Jacquard Store\n",
      "741 ratings\n",
      "4.6\n",
      "200+ bought in past month\n",
      "$34\n",
      "98\n",
      "Some Data is Missing By Dynamic Element Change or position: Message: no such element: Unable to locate element: {\"method\":\"css selector\",\"selector\":\"#detailBullets_feature_div > ul > li:nth-child(6) > span > span:nth-child(2)\"}\n",
      "  (Session info: chrome=130.0.6723.92); For documentation on this error, please visit: https://www.selenium.dev/documentation/webdriver/troubleshooting/errors#no-such-element-exception\n",
      "Stacktrace:\n",
      "\tGetHandleVerifier [0x00007FF6B4213AB5+28005]\n",
      "\t(No symbol) [0x00007FF6B41783B0]\n",
      "\t(No symbol) [0x00007FF6B401580A]\n",
      "\t(No symbol) [0x00007FF6B4065A3E]\n",
      "\t(No symbol) [0x00007FF6B4065D2C]\n",
      "\t(No symbol) [0x00007FF6B40AEA97]\n",
      "\t(No symbol) [0x00007FF6B408BA7F]\n",
      "\t(No symbol) [0x00007FF6B40AB8B3]\n",
      "\t(No symbol) [0x00007FF6B408B7E3]\n",
      "\t(No symbol) [0x00007FF6B40575C8]\n",
      "\t(No symbol) [0x00007FF6B4058731]\n",
      "\tGetHandleVerifier [0x00007FF6B450643D+3118829]\n",
      "\tGetHandleVerifier [0x00007FF6B4556C90+3448640]\n",
      "\tGetHandleVerifier [0x00007FF6B454CF0D+3408317]\n",
      "\tGetHandleVerifier [0x00007FF6B42DA40B+841403]\n",
      "\t(No symbol) [0x00007FF6B418340F]\n",
      "\t(No symbol) [0x00007FF6B417F484]\n",
      "\t(No symbol) [0x00007FF6B417F61D]\n",
      "\t(No symbol) [0x00007FF6B416EB79]\n",
      "\tBaseThreadInitThunk [0x00007FFA3FF17374+20]\n",
      "\tRtlUserThreadStart [0x00007FFA4061CC91+33]\n",
      "\n",
      "Opening product link at index 10: https://www.amazon.com/Jacquard-PMX108S-Procion-8-Color-Set/dp/B08B4X391V/ref=sr_1_6?dib=eyJ2IjoiMSJ9.e_8RiT12-oib4IYmFiUhmLFJvZHgRaOC4CO7mI3Fiepz8w1vauuxKNyijUc-LMwIhwTV6_2iSLlYHHn9_vocWfW3ZiHpzZybSTbD36c56JI_7cr5bBzWoCDwgyQQdPGGAdaym6l44ncOt9Gkd3I952VDUxGYCKeP1Mis8_QeXsA4Kwfy5icZgSbsP3c_xPGS.4MTPMTRl7HYXj_2AEqZsaz2MHQ87FPCFI3Q41zVmIws&dib_tag=se&m=APFT9QL1K3VXH&marketplaceID=ATVPDKIKX0DER&qid=1730855187&s=merchant-items&sr=1-6\n",
      "Jacquard Procion MX Dye 8 Color Set - Cold Water Dye - 2/3 oz - Permanent and Washfast Fiber Reactive Dye\n",
      "Visit the Jacquard Store\n",
      "1,486 ratings\n",
      "4.7\n",
      "200+ bought in past month\n",
      "$28\n",
      "85\n",
      "B08B4X391V\n",
      "Best Sellers Rank: #20,735 in Arts, Crafts & Sewing (See Top 100 in Arts, Crafts & Sewing)\n",
      "#91 in Fabric Dyes\n",
      "Opening product link at index 11: https://www.amazon.com/Jacquard-PMX108S-Procion-8-Color-Set/dp/B08B4X391V/ref=sr_1_6?dib=eyJ2IjoiMSJ9.e_8RiT12-oib4IYmFiUhmLFJvZHgRaOC4CO7mI3Fiepz8w1vauuxKNyijUc-LMwIhwTV6_2iSLlYHHn9_vocWfW3ZiHpzZybSTbD36c56JI_7cr5bBzWoCDwgyQQdPGGAdaym6l44ncOt9Gkd3I952VDUxGYCKeP1Mis8_QeXsA4Kwfy5icZgSbsP3c_xPGS.4MTPMTRl7HYXj_2AEqZsaz2MHQ87FPCFI3Q41zVmIws&dib_tag=se&m=APFT9QL1K3VXH&marketplaceID=ATVPDKIKX0DER&qid=1730855187&s=merchant-items&sr=1-6\n",
      "Jacquard Procion MX Dye 8 Color Set - Cold Water Dye - 2/3 oz - Permanent and Washfast Fiber Reactive Dye\n",
      "Visit the Jacquard Store\n",
      "1,486 ratings\n",
      "4.7\n",
      "200+ bought in past month\n",
      "$28\n",
      "85\n",
      "B08B4X391V\n",
      "Best Sellers Rank: #20,735 in Arts, Crafts & Sewing (See Top 100 in Arts, Crafts & Sewing)\n",
      "#91 in Fabric Dyes\n",
      "Opening product link at index 12: https://www.amazon.com/Nature-Cure-Bee-Caps-Caplet/dp/B000GVQZL6/ref=sr_1_7?dib=eyJ2IjoiMSJ9.e_8RiT12-oib4IYmFiUhmLFJvZHgRaOC4CO7mI3Fiepz8w1vauuxKNyijUc-LMwIhwTV6_2iSLlYHHn9_vocWfW3ZiHpzZybSTbD36c56JI_7cr5bBzWoCDwgyQQdPGGAdaym6l44ncOt9Gkd3I952VDUxGYCKeP1Mis8_QeXsA4Kwfy5icZgSbsP3c_xPGS.4MTPMTRl7HYXj_2AEqZsaz2MHQ87FPCFI3Q41zVmIws&dib_tag=se&m=APFT9QL1K3VXH&marketplaceID=ATVPDKIKX0DER&qid=1730855187&s=merchant-items&sr=1-7\n",
      "Caps Nature Cure Bee 120 Caplet\n",
      "Brand: Nature Cure Bee\n",
      "803 ratings\n",
      "4.5\n",
      "200+ bought in past month\n",
      "$20\n",
      "69\n",
      "B000GVQZL6\n",
      "Best Sellers Rank: #74,569 in Health & Household (See Top 100 in Health & Household)\n",
      "#27 in Royal Jelly Nutritional Supplements\n",
      "Opening product link at index 13: https://www.amazon.com/Nature-Cure-Bee-Caps-Caplet/dp/B000GVQZL6/ref=sr_1_7?dib=eyJ2IjoiMSJ9.e_8RiT12-oib4IYmFiUhmLFJvZHgRaOC4CO7mI3Fiepz8w1vauuxKNyijUc-LMwIhwTV6_2iSLlYHHn9_vocWfW3ZiHpzZybSTbD36c56JI_7cr5bBzWoCDwgyQQdPGGAdaym6l44ncOt9Gkd3I952VDUxGYCKeP1Mis8_QeXsA4Kwfy5icZgSbsP3c_xPGS.4MTPMTRl7HYXj_2AEqZsaz2MHQ87FPCFI3Q41zVmIws&dib_tag=se&m=APFT9QL1K3VXH&marketplaceID=ATVPDKIKX0DER&qid=1730855187&s=merchant-items&sr=1-7\n",
      "Caps Nature Cure Bee 120 Caplet\n",
      "Brand: Nature Cure Bee\n",
      "803 ratings\n",
      "4.5\n",
      "200+ bought in past month\n",
      "$20\n",
      "69\n",
      "B000GVQZL6\n",
      "Best Sellers Rank: #74,569 in Health & Household (See Top 100 in Health & Household)\n",
      "#27 in Royal Jelly Nutritional Supplements\n",
      "Opening product link at index 14: https://www.amazon.com/Valco-Cincinnati-Tube-Grip-Industrial-Dispenser/dp/B007IQ4XWK/ref=sr_1_8?dib=eyJ2IjoiMSJ9.e_8RiT12-oib4IYmFiUhmLFJvZHgRaOC4CO7mI3Fiepz8w1vauuxKNyijUc-LMwIhwTV6_2iSLlYHHn9_vocWfW3ZiHpzZybSTbD36c56JI_7cr5bBzWoCDwgyQQdPGGAdaym6l44ncOt9Gkd3I952VDUxGYCKeP1Mis8_QeXsA4Kwfy5icZgSbsP3c_xPGS.4MTPMTRl7HYXj_2AEqZsaz2MHQ87FPCFI3Q41zVmIws&dib_tag=se&m=APFT9QL1K3VXH&marketplaceID=ATVPDKIKX0DER&qid=1730855187&s=merchant-items&sr=1-8\n",
      "71006 Tube-Grip 2.5\" Industrial Size Dispenser\n",
      "Brand: Valco Cincinnati\n",
      "648 ratings\n",
      "4.6\n",
      "200+ bought in past month\n",
      "$27\n",
      "50\n",
      "Some Data is Missing By Dynamic Element Change or position: Message: no such element: Unable to locate element: {\"method\":\"css selector\",\"selector\":\"#detailBullets_feature_div > ul > li:nth-child(6) > span > span:nth-child(2)\"}\n",
      "  (Session info: chrome=130.0.6723.92); For documentation on this error, please visit: https://www.selenium.dev/documentation/webdriver/troubleshooting/errors#no-such-element-exception\n",
      "Stacktrace:\n",
      "\tGetHandleVerifier [0x00007FF6B4213AB5+28005]\n",
      "\t(No symbol) [0x00007FF6B41783B0]\n",
      "\t(No symbol) [0x00007FF6B401580A]\n",
      "\t(No symbol) [0x00007FF6B4065A3E]\n",
      "\t(No symbol) [0x00007FF6B4065D2C]\n",
      "\t(No symbol) [0x00007FF6B40AEA97]\n",
      "\t(No symbol) [0x00007FF6B408BA7F]\n",
      "\t(No symbol) [0x00007FF6B40AB8B3]\n",
      "\t(No symbol) [0x00007FF6B408B7E3]\n",
      "\t(No symbol) [0x00007FF6B40575C8]\n",
      "\t(No symbol) [0x00007FF6B4058731]\n",
      "\tGetHandleVerifier [0x00007FF6B450643D+3118829]\n",
      "\tGetHandleVerifier [0x00007FF6B4556C90+3448640]\n",
      "\tGetHandleVerifier [0x00007FF6B454CF0D+3408317]\n",
      "\tGetHandleVerifier [0x00007FF6B42DA40B+841403]\n",
      "\t(No symbol) [0x00007FF6B418340F]\n",
      "\t(No symbol) [0x00007FF6B417F484]\n",
      "\t(No symbol) [0x00007FF6B417F61D]\n",
      "\t(No symbol) [0x00007FF6B416EB79]\n",
      "\tBaseThreadInitThunk [0x00007FFA3FF17374+20]\n",
      "\tRtlUserThreadStart [0x00007FFA4061CC91+33]\n",
      "\n",
      "Opening product link at index 15: https://www.amazon.com/Valco-Cincinnati-Tube-Grip-Industrial-Dispenser/dp/B007IQ4XWK/ref=sr_1_8?dib=eyJ2IjoiMSJ9.e_8RiT12-oib4IYmFiUhmLFJvZHgRaOC4CO7mI3Fiepz8w1vauuxKNyijUc-LMwIhwTV6_2iSLlYHHn9_vocWfW3ZiHpzZybSTbD36c56JI_7cr5bBzWoCDwgyQQdPGGAdaym6l44ncOt9Gkd3I952VDUxGYCKeP1Mis8_QeXsA4Kwfy5icZgSbsP3c_xPGS.4MTPMTRl7HYXj_2AEqZsaz2MHQ87FPCFI3Q41zVmIws&dib_tag=se&m=APFT9QL1K3VXH&marketplaceID=ATVPDKIKX0DER&qid=1730855187&s=merchant-items&sr=1-8\n",
      "71006 Tube-Grip 2.5\" Industrial Size Dispenser\n",
      "Brand: Valco Cincinnati\n",
      "648 ratings\n",
      "4.6\n",
      "200+ bought in past month\n",
      "$27\n",
      "50\n",
      "Some Data is Missing By Dynamic Element Change or position: Message: no such element: Unable to locate element: {\"method\":\"css selector\",\"selector\":\"#detailBullets_feature_div > ul > li:nth-child(6) > span > span:nth-child(2)\"}\n",
      "  (Session info: chrome=130.0.6723.92); For documentation on this error, please visit: https://www.selenium.dev/documentation/webdriver/troubleshooting/errors#no-such-element-exception\n",
      "Stacktrace:\n",
      "\tGetHandleVerifier [0x00007FF6B4213AB5+28005]\n",
      "\t(No symbol) [0x00007FF6B41783B0]\n",
      "\t(No symbol) [0x00007FF6B401580A]\n",
      "\t(No symbol) [0x00007FF6B4065A3E]\n",
      "\t(No symbol) [0x00007FF6B4065D2C]\n",
      "\t(No symbol) [0x00007FF6B40AEA97]\n",
      "\t(No symbol) [0x00007FF6B408BA7F]\n",
      "\t(No symbol) [0x00007FF6B40AB8B3]\n",
      "\t(No symbol) [0x00007FF6B408B7E3]\n",
      "\t(No symbol) [0x00007FF6B40575C8]\n",
      "\t(No symbol) [0x00007FF6B4058731]\n",
      "\tGetHandleVerifier [0x00007FF6B450643D+3118829]\n",
      "\tGetHandleVerifier [0x00007FF6B4556C90+3448640]\n",
      "\tGetHandleVerifier [0x00007FF6B454CF0D+3408317]\n",
      "\tGetHandleVerifier [0x00007FF6B42DA40B+841403]\n",
      "\t(No symbol) [0x00007FF6B418340F]\n",
      "\t(No symbol) [0x00007FF6B417F484]\n",
      "\t(No symbol) [0x00007FF6B417F61D]\n",
      "\t(No symbol) [0x00007FF6B416EB79]\n",
      "\tBaseThreadInitThunk [0x00007FFA3FF17374+20]\n",
      "\tRtlUserThreadStart [0x00007FFA4061CC91+33]\n",
      "\n",
      "Opening product link at index 16: https://www.amazon.com/Jacquard-4336922080-Textile-Paint-White/dp/B0026A7OVK/ref=sr_1_9?dib=eyJ2IjoiMSJ9.e_8RiT12-oib4IYmFiUhmLFJvZHgRaOC4CO7mI3Fiepz8w1vauuxKNyijUc-LMwIhwTV6_2iSLlYHHn9_vocWfW3ZiHpzZybSTbD36c56JI_7cr5bBzWoCDwgyQQdPGGAdaym6l44ncOt9Gkd3I952VDUxGYCKeP1Mis8_QeXsA4Kwfy5icZgSbsP3c_xPGS.4MTPMTRl7HYXj_2AEqZsaz2MHQ87FPCFI3Q41zVmIws&dib_tag=se&m=APFT9QL1K3VXH&marketplaceID=ATVPDKIKX0DER&qid=1730855187&s=merchant-items&sr=1-9\n",
      "Jacquard Fabric Paint for Clothes - 8 Oz Textile Color -White - Leaves Fabric Soft - Permanent and Colorfast - Professional Quality Paints Made in USA - Holds up Exceptionally Well to Washing\n",
      "Visit the Jacquard Store\n",
      "877 ratings\n",
      "4.5\n",
      "100+ bought in past month\n",
      "$14\n",
      "16\n",
      "Some Data is Missing By Dynamic Element Change or position: Message: no such element: Unable to locate element: {\"method\":\"css selector\",\"selector\":\"#detailBullets_feature_div > ul > li:nth-child(6) > span > span:nth-child(2)\"}\n",
      "  (Session info: chrome=130.0.6723.92); For documentation on this error, please visit: https://www.selenium.dev/documentation/webdriver/troubleshooting/errors#no-such-element-exception\n",
      "Stacktrace:\n",
      "\tGetHandleVerifier [0x00007FF6B4213AB5+28005]\n",
      "\t(No symbol) [0x00007FF6B41783B0]\n",
      "\t(No symbol) [0x00007FF6B401580A]\n",
      "\t(No symbol) [0x00007FF6B4065A3E]\n",
      "\t(No symbol) [0x00007FF6B4065D2C]\n",
      "\t(No symbol) [0x00007FF6B40AEA97]\n",
      "\t(No symbol) [0x00007FF6B408BA7F]\n",
      "\t(No symbol) [0x00007FF6B40AB8B3]\n",
      "\t(No symbol) [0x00007FF6B408B7E3]\n",
      "\t(No symbol) [0x00007FF6B40575C8]\n",
      "\t(No symbol) [0x00007FF6B4058731]\n",
      "\tGetHandleVerifier [0x00007FF6B450643D+3118829]\n",
      "\tGetHandleVerifier [0x00007FF6B4556C90+3448640]\n",
      "\tGetHandleVerifier [0x00007FF6B454CF0D+3408317]\n",
      "\tGetHandleVerifier [0x00007FF6B42DA40B+841403]\n",
      "\t(No symbol) [0x00007FF6B418340F]\n",
      "\t(No symbol) [0x00007FF6B417F484]\n",
      "\t(No symbol) [0x00007FF6B417F61D]\n",
      "\t(No symbol) [0x00007FF6B416EB79]\n",
      "\tBaseThreadInitThunk [0x00007FFA3FF17374+20]\n",
      "\tRtlUserThreadStart [0x00007FFA4061CC91+33]\n",
      "\n",
      "Opening product link at index 17: https://www.amazon.com/Jacquard-4336922080-Textile-Paint-White/dp/B0026A7OVK/ref=sr_1_9?dib=eyJ2IjoiMSJ9.e_8RiT12-oib4IYmFiUhmLFJvZHgRaOC4CO7mI3Fiepz8w1vauuxKNyijUc-LMwIhwTV6_2iSLlYHHn9_vocWfW3ZiHpzZybSTbD36c56JI_7cr5bBzWoCDwgyQQdPGGAdaym6l44ncOt9Gkd3I952VDUxGYCKeP1Mis8_QeXsA4Kwfy5icZgSbsP3c_xPGS.4MTPMTRl7HYXj_2AEqZsaz2MHQ87FPCFI3Q41zVmIws&dib_tag=se&m=APFT9QL1K3VXH&marketplaceID=ATVPDKIKX0DER&qid=1730855187&s=merchant-items&sr=1-9\n",
      "Jacquard Fabric Paint for Clothes - 8 Oz Textile Color -White - Leaves Fabric Soft - Permanent and Colorfast - Professional Quality Paints Made in USA - Holds up Exceptionally Well to Washing\n",
      "Visit the Jacquard Store\n",
      "877 ratings\n",
      "4.5\n",
      "100+ bought in past month\n",
      "$14\n",
      "16\n",
      "Some Data is Missing By Dynamic Element Change or position: Message: no such element: Unable to locate element: {\"method\":\"css selector\",\"selector\":\"#detailBullets_feature_div > ul > li:nth-child(6) > span > span:nth-child(2)\"}\n",
      "  (Session info: chrome=130.0.6723.92); For documentation on this error, please visit: https://www.selenium.dev/documentation/webdriver/troubleshooting/errors#no-such-element-exception\n",
      "Stacktrace:\n",
      "\tGetHandleVerifier [0x00007FF6B4213AB5+28005]\n",
      "\t(No symbol) [0x00007FF6B41783B0]\n",
      "\t(No symbol) [0x00007FF6B401580A]\n",
      "\t(No symbol) [0x00007FF6B4065A3E]\n",
      "\t(No symbol) [0x00007FF6B4065D2C]\n",
      "\t(No symbol) [0x00007FF6B40AEA97]\n",
      "\t(No symbol) [0x00007FF6B408BA7F]\n",
      "\t(No symbol) [0x00007FF6B40AB8B3]\n",
      "\t(No symbol) [0x00007FF6B408B7E3]\n",
      "\t(No symbol) [0x00007FF6B40575C8]\n",
      "\t(No symbol) [0x00007FF6B4058731]\n",
      "\tGetHandleVerifier [0x00007FF6B450643D+3118829]\n",
      "\tGetHandleVerifier [0x00007FF6B4556C90+3448640]\n",
      "\tGetHandleVerifier [0x00007FF6B454CF0D+3408317]\n",
      "\tGetHandleVerifier [0x00007FF6B42DA40B+841403]\n",
      "\t(No symbol) [0x00007FF6B418340F]\n",
      "\t(No symbol) [0x00007FF6B417F484]\n",
      "\t(No symbol) [0x00007FF6B417F61D]\n",
      "\t(No symbol) [0x00007FF6B416EB79]\n",
      "\tBaseThreadInitThunk [0x00007FFA3FF17374+20]\n",
      "\tRtlUserThreadStart [0x00007FFA4061CC91+33]\n",
      "\n",
      "Opening product link at index 18: https://www.amazon.com/Shiitake-Mushroom-Crisps-Lightly-Seasoned/dp/B07PDT9R4W/ref=sr_1_10?dib=eyJ2IjoiMSJ9.e_8RiT12-oib4IYmFiUhmLFJvZHgRaOC4CO7mI3Fiepz8w1vauuxKNyijUc-LMwIhwTV6_2iSLlYHHn9_vocWfW3ZiHpzZybSTbD36c56JI_7cr5bBzWoCDwgyQQdPGGAdaym6l44ncOt9Gkd3I952VDUxGYCKeP1Mis8_QeXsA4Kwfy5icZgSbsP3c_xPGS.4MTPMTRl7HYXj_2AEqZsaz2MHQ87FPCFI3Q41zVmIws&dib_tag=se&m=APFT9QL1K3VXH&marketplaceID=ATVPDKIKX0DER&qid=1730855187&s=merchant-items&sr=1-10\n",
      "Shiitake Mushroom Crisps - Lightly Cooked and Seasoned 2.3 Ounce…\n",
      "Visit the DJ&A Store\n",
      "1,265 ratings\n",
      "4.3\n",
      "100+ bought in past month\n",
      "$8\n",
      "79\n",
      "Some Data is Missing By Dynamic Element Change or position: Message: no such element: Unable to locate element: {\"method\":\"css selector\",\"selector\":\"#detailBullets_feature_div > ul > li:nth-child(6) > span > span:nth-child(2)\"}\n",
      "  (Session info: chrome=130.0.6723.92); For documentation on this error, please visit: https://www.selenium.dev/documentation/webdriver/troubleshooting/errors#no-such-element-exception\n",
      "Stacktrace:\n",
      "\tGetHandleVerifier [0x00007FF6B4213AB5+28005]\n",
      "\t(No symbol) [0x00007FF6B41783B0]\n",
      "\t(No symbol) [0x00007FF6B401580A]\n",
      "\t(No symbol) [0x00007FF6B4065A3E]\n",
      "\t(No symbol) [0x00007FF6B4065D2C]\n",
      "\t(No symbol) [0x00007FF6B40AEA97]\n",
      "\t(No symbol) [0x00007FF6B408BA7F]\n",
      "\t(No symbol) [0x00007FF6B40AB8B3]\n",
      "\t(No symbol) [0x00007FF6B408B7E3]\n",
      "\t(No symbol) [0x00007FF6B40575C8]\n",
      "\t(No symbol) [0x00007FF6B4058731]\n",
      "\tGetHandleVerifier [0x00007FF6B450643D+3118829]\n",
      "\tGetHandleVerifier [0x00007FF6B4556C90+3448640]\n",
      "\tGetHandleVerifier [0x00007FF6B454CF0D+3408317]\n",
      "\tGetHandleVerifier [0x00007FF6B42DA40B+841403]\n",
      "\t(No symbol) [0x00007FF6B418340F]\n",
      "\t(No symbol) [0x00007FF6B417F484]\n",
      "\t(No symbol) [0x00007FF6B417F61D]\n",
      "\t(No symbol) [0x00007FF6B416EB79]\n",
      "\tBaseThreadInitThunk [0x00007FFA3FF17374+20]\n",
      "\tRtlUserThreadStart [0x00007FFA4061CC91+33]\n",
      "\n",
      "Opening product link at index 19: https://www.amazon.com/Shiitake-Mushroom-Crisps-Lightly-Seasoned/dp/B07PDT9R4W/ref=sr_1_10?dib=eyJ2IjoiMSJ9.e_8RiT12-oib4IYmFiUhmLFJvZHgRaOC4CO7mI3Fiepz8w1vauuxKNyijUc-LMwIhwTV6_2iSLlYHHn9_vocWfW3ZiHpzZybSTbD36c56JI_7cr5bBzWoCDwgyQQdPGGAdaym6l44ncOt9Gkd3I952VDUxGYCKeP1Mis8_QeXsA4Kwfy5icZgSbsP3c_xPGS.4MTPMTRl7HYXj_2AEqZsaz2MHQ87FPCFI3Q41zVmIws&dib_tag=se&m=APFT9QL1K3VXH&marketplaceID=ATVPDKIKX0DER&qid=1730855187&s=merchant-items&sr=1-10\n",
      "Shiitake Mushroom Crisps - Lightly Cooked and Seasoned 2.3 Ounce…\n",
      "Visit the DJ&A Store\n",
      "1,265 ratings\n",
      "4.3\n",
      "100+ bought in past month\n",
      "$8\n",
      "79\n",
      "Some Data is Missing By Dynamic Element Change or position: Message: no such element: Unable to locate element: {\"method\":\"css selector\",\"selector\":\"#detailBullets_feature_div > ul > li:nth-child(6) > span > span:nth-child(2)\"}\n",
      "  (Session info: chrome=130.0.6723.92); For documentation on this error, please visit: https://www.selenium.dev/documentation/webdriver/troubleshooting/errors#no-such-element-exception\n",
      "Stacktrace:\n",
      "\tGetHandleVerifier [0x00007FF6B4213AB5+28005]\n",
      "\t(No symbol) [0x00007FF6B41783B0]\n",
      "\t(No symbol) [0x00007FF6B401580A]\n",
      "\t(No symbol) [0x00007FF6B4065A3E]\n",
      "\t(No symbol) [0x00007FF6B4065D2C]\n",
      "\t(No symbol) [0x00007FF6B40AEA97]\n",
      "\t(No symbol) [0x00007FF6B408BA7F]\n",
      "\t(No symbol) [0x00007FF6B40AB8B3]\n",
      "\t(No symbol) [0x00007FF6B408B7E3]\n",
      "\t(No symbol) [0x00007FF6B40575C8]\n",
      "\t(No symbol) [0x00007FF6B4058731]\n",
      "\tGetHandleVerifier [0x00007FF6B450643D+3118829]\n",
      "\tGetHandleVerifier [0x00007FF6B4556C90+3448640]\n",
      "\tGetHandleVerifier [0x00007FF6B454CF0D+3408317]\n",
      "\tGetHandleVerifier [0x00007FF6B42DA40B+841403]\n",
      "\t(No symbol) [0x00007FF6B418340F]\n",
      "\t(No symbol) [0x00007FF6B417F484]\n",
      "\t(No symbol) [0x00007FF6B417F61D]\n",
      "\t(No symbol) [0x00007FF6B416EB79]\n",
      "\tBaseThreadInitThunk [0x00007FFA3FF17374+20]\n",
      "\tRtlUserThreadStart [0x00007FFA4061CC91+33]\n",
      "\n",
      "Opening product link at index 20: https://www.amazon.com/Procion-Color-Ounce-2-1lb-Instruction/dp/B07THBY8Z8/ref=sr_1_11?dib=eyJ2IjoiMSJ9.e_8RiT12-oib4IYmFiUhmLFJvZHgRaOC4CO7mI3Fiepz8w1vauuxKNyijUc-LMwIhwTV6_2iSLlYHHn9_vocWfW3ZiHpzZybSTbD36c56JI_7cr5bBzWoCDwgyQQdPGGAdaym6l44ncOt9Gkd3I952VDUxGYCKeP1Mis8_QeXsA4Kwfy5icZgSbsP3c_xPGS.4MTPMTRl7HYXj_2AEqZsaz2MHQ87FPCFI3Q41zVmIws&dib_tag=se&m=APFT9QL1K3VXH&marketplaceID=ATVPDKIKX0DER&qid=1730855187&s=merchant-items&sr=1-11\n",
      "Procion MX Dye Color Set - Includes 13 2/3 Ounce Jars - 2-1lb Soda Ash Dye Fixer - Instruction Sheet - Color Chart\n",
      "Visit the Jacquard Store\n",
      "236 ratings\n",
      "4.6\n",
      "100+ bought in past month\n",
      "$51\n",
      "49\n",
      "Some Data is Missing By Dynamic Element Change or position: Message: no such element: Unable to locate element: {\"method\":\"css selector\",\"selector\":\"#detailBullets_feature_div > ul > li:nth-child(6) > span > span:nth-child(2)\"}\n",
      "  (Session info: chrome=130.0.6723.92); For documentation on this error, please visit: https://www.selenium.dev/documentation/webdriver/troubleshooting/errors#no-such-element-exception\n",
      "Stacktrace:\n",
      "\tGetHandleVerifier [0x00007FF6B4213AB5+28005]\n",
      "\t(No symbol) [0x00007FF6B41783B0]\n",
      "\t(No symbol) [0x00007FF6B401580A]\n",
      "\t(No symbol) [0x00007FF6B4065A3E]\n",
      "\t(No symbol) [0x00007FF6B4065D2C]\n",
      "\t(No symbol) [0x00007FF6B40AEA97]\n",
      "\t(No symbol) [0x00007FF6B408BA7F]\n",
      "\t(No symbol) [0x00007FF6B40AB8B3]\n",
      "\t(No symbol) [0x00007FF6B408B7E3]\n",
      "\t(No symbol) [0x00007FF6B40575C8]\n",
      "\t(No symbol) [0x00007FF6B4058731]\n",
      "\tGetHandleVerifier [0x00007FF6B450643D+3118829]\n",
      "\tGetHandleVerifier [0x00007FF6B4556C90+3448640]\n",
      "\tGetHandleVerifier [0x00007FF6B454CF0D+3408317]\n",
      "\tGetHandleVerifier [0x00007FF6B42DA40B+841403]\n",
      "\t(No symbol) [0x00007FF6B418340F]\n",
      "\t(No symbol) [0x00007FF6B417F484]\n",
      "\t(No symbol) [0x00007FF6B417F61D]\n",
      "\t(No symbol) [0x00007FF6B416EB79]\n",
      "\tBaseThreadInitThunk [0x00007FFA3FF17374+20]\n",
      "\tRtlUserThreadStart [0x00007FFA4061CC91+33]\n",
      "\n",
      "Opening product link at index 21: https://www.amazon.com/Procion-Color-Ounce-2-1lb-Instruction/dp/B07THBY8Z8/ref=sr_1_11?dib=eyJ2IjoiMSJ9.e_8RiT12-oib4IYmFiUhmLFJvZHgRaOC4CO7mI3Fiepz8w1vauuxKNyijUc-LMwIhwTV6_2iSLlYHHn9_vocWfW3ZiHpzZybSTbD36c56JI_7cr5bBzWoCDwgyQQdPGGAdaym6l44ncOt9Gkd3I952VDUxGYCKeP1Mis8_QeXsA4Kwfy5icZgSbsP3c_xPGS.4MTPMTRl7HYXj_2AEqZsaz2MHQ87FPCFI3Q41zVmIws&dib_tag=se&m=APFT9QL1K3VXH&marketplaceID=ATVPDKIKX0DER&qid=1730855187&s=merchant-items&sr=1-11\n",
      "Procion MX Dye Color Set - Includes 13 2/3 Ounce Jars - 2-1lb Soda Ash Dye Fixer - Instruction Sheet - Color Chart\n",
      "Visit the Jacquard Store\n",
      "236 ratings\n",
      "4.6\n",
      "100+ bought in past month\n",
      "$51\n",
      "49\n",
      "Some Data is Missing By Dynamic Element Change or position: Message: no such element: Unable to locate element: {\"method\":\"css selector\",\"selector\":\"#detailBullets_feature_div > ul > li:nth-child(6) > span > span:nth-child(2)\"}\n",
      "  (Session info: chrome=130.0.6723.92); For documentation on this error, please visit: https://www.selenium.dev/documentation/webdriver/troubleshooting/errors#no-such-element-exception\n",
      "Stacktrace:\n",
      "\tGetHandleVerifier [0x00007FF6B4213AB5+28005]\n",
      "\t(No symbol) [0x00007FF6B41783B0]\n",
      "\t(No symbol) [0x00007FF6B401580A]\n",
      "\t(No symbol) [0x00007FF6B4065A3E]\n",
      "\t(No symbol) [0x00007FF6B4065D2C]\n",
      "\t(No symbol) [0x00007FF6B40AEA97]\n",
      "\t(No symbol) [0x00007FF6B408BA7F]\n",
      "\t(No symbol) [0x00007FF6B40AB8B3]\n",
      "\t(No symbol) [0x00007FF6B408B7E3]\n",
      "\t(No symbol) [0x00007FF6B40575C8]\n",
      "\t(No symbol) [0x00007FF6B4058731]\n",
      "\tGetHandleVerifier [0x00007FF6B450643D+3118829]\n",
      "\tGetHandleVerifier [0x00007FF6B4556C90+3448640]\n",
      "\tGetHandleVerifier [0x00007FF6B454CF0D+3408317]\n",
      "\tGetHandleVerifier [0x00007FF6B42DA40B+841403]\n",
      "\t(No symbol) [0x00007FF6B418340F]\n",
      "\t(No symbol) [0x00007FF6B417F484]\n",
      "\t(No symbol) [0x00007FF6B417F61D]\n",
      "\t(No symbol) [0x00007FF6B416EB79]\n",
      "\tBaseThreadInitThunk [0x00007FFA3FF17374+20]\n",
      "\tRtlUserThreadStart [0x00007FFA4061CC91+33]\n",
      "\n",
      "Opening product link at index 22: https://www.amazon.com/Jacquard-Ferric-Ammonium-Citrate-8-Ounce/dp/B010MN2WLO/ref=sr_1_12?dib=eyJ2IjoiMSJ9.e_8RiT12-oib4IYmFiUhmLFJvZHgRaOC4CO7mI3Fiepz8w1vauuxKNyijUc-LMwIhwTV6_2iSLlYHHn9_vocWfW3ZiHpzZybSTbD36c56JI_7cr5bBzWoCDwgyQQdPGGAdaym6l44ncOt9Gkd3I952VDUxGYCKeP1Mis8_QeXsA4Kwfy5icZgSbsP3c_xPGS.4MTPMTRl7HYXj_2AEqZsaz2MHQ87FPCFI3Q41zVmIws&dib_tag=se&m=APFT9QL1K3VXH&marketplaceID=ATVPDKIKX0DER&qid=1730855187&s=merchant-items&sr=1-12\n",
      "Jacquard Ferric Ammonium Citrate 8Oz\n",
      "Visit the Jacquard Store\n",
      "146 ratings\n",
      "4.4\n",
      "50+ bought in past month\n",
      "$16\n",
      "00\n",
      "Some Data is Missing By Dynamic Element Change or position: Message: no such element: Unable to locate element: {\"method\":\"css selector\",\"selector\":\"#detailBullets_feature_div > ul > li:nth-child(6) > span > span:nth-child(2)\"}\n",
      "  (Session info: chrome=130.0.6723.92); For documentation on this error, please visit: https://www.selenium.dev/documentation/webdriver/troubleshooting/errors#no-such-element-exception\n",
      "Stacktrace:\n",
      "\tGetHandleVerifier [0x00007FF6B4213AB5+28005]\n",
      "\t(No symbol) [0x00007FF6B41783B0]\n",
      "\t(No symbol) [0x00007FF6B401580A]\n",
      "\t(No symbol) [0x00007FF6B4065A3E]\n",
      "\t(No symbol) [0x00007FF6B4065D2C]\n",
      "\t(No symbol) [0x00007FF6B40AEA97]\n",
      "\t(No symbol) [0x00007FF6B408BA7F]\n",
      "\t(No symbol) [0x00007FF6B40AB8B3]\n",
      "\t(No symbol) [0x00007FF6B408B7E3]\n",
      "\t(No symbol) [0x00007FF6B40575C8]\n",
      "\t(No symbol) [0x00007FF6B4058731]\n",
      "\tGetHandleVerifier [0x00007FF6B450643D+3118829]\n",
      "\tGetHandleVerifier [0x00007FF6B4556C90+3448640]\n",
      "\tGetHandleVerifier [0x00007FF6B454CF0D+3408317]\n",
      "\tGetHandleVerifier [0x00007FF6B42DA40B+841403]\n",
      "\t(No symbol) [0x00007FF6B418340F]\n",
      "\t(No symbol) [0x00007FF6B417F484]\n",
      "\t(No symbol) [0x00007FF6B417F61D]\n",
      "\t(No symbol) [0x00007FF6B416EB79]\n",
      "\tBaseThreadInitThunk [0x00007FFA3FF17374+20]\n",
      "\tRtlUserThreadStart [0x00007FFA4061CC91+33]\n",
      "\n",
      "Opening product link at index 23: https://www.amazon.com/Jacquard-Ferric-Ammonium-Citrate-8-Ounce/dp/B010MN2WLO/ref=sr_1_12?dib=eyJ2IjoiMSJ9.e_8RiT12-oib4IYmFiUhmLFJvZHgRaOC4CO7mI3Fiepz8w1vauuxKNyijUc-LMwIhwTV6_2iSLlYHHn9_vocWfW3ZiHpzZybSTbD36c56JI_7cr5bBzWoCDwgyQQdPGGAdaym6l44ncOt9Gkd3I952VDUxGYCKeP1Mis8_QeXsA4Kwfy5icZgSbsP3c_xPGS.4MTPMTRl7HYXj_2AEqZsaz2MHQ87FPCFI3Q41zVmIws&dib_tag=se&m=APFT9QL1K3VXH&marketplaceID=ATVPDKIKX0DER&qid=1730855187&s=merchant-items&sr=1-12\n",
      "Jacquard Ferric Ammonium Citrate 8Oz\n",
      "Visit the Jacquard Store\n",
      "146 ratings\n",
      "4.4\n",
      "50+ bought in past month\n",
      "$16\n",
      "00\n",
      "Some Data is Missing By Dynamic Element Change or position: Message: no such element: Unable to locate element: {\"method\":\"css selector\",\"selector\":\"#detailBullets_feature_div > ul > li:nth-child(6) > span > span:nth-child(2)\"}\n",
      "  (Session info: chrome=130.0.6723.92); For documentation on this error, please visit: https://www.selenium.dev/documentation/webdriver/troubleshooting/errors#no-such-element-exception\n",
      "Stacktrace:\n",
      "\tGetHandleVerifier [0x00007FF6B4213AB5+28005]\n",
      "\t(No symbol) [0x00007FF6B41783B0]\n",
      "\t(No symbol) [0x00007FF6B401580A]\n",
      "\t(No symbol) [0x00007FF6B4065A3E]\n",
      "\t(No symbol) [0x00007FF6B4065D2C]\n",
      "\t(No symbol) [0x00007FF6B40AEA97]\n",
      "\t(No symbol) [0x00007FF6B408BA7F]\n",
      "\t(No symbol) [0x00007FF6B40AB8B3]\n",
      "\t(No symbol) [0x00007FF6B408B7E3]\n",
      "\t(No symbol) [0x00007FF6B40575C8]\n",
      "\t(No symbol) [0x00007FF6B4058731]\n",
      "\tGetHandleVerifier [0x00007FF6B450643D+3118829]\n",
      "\tGetHandleVerifier [0x00007FF6B4556C90+3448640]\n",
      "\tGetHandleVerifier [0x00007FF6B454CF0D+3408317]\n",
      "\tGetHandleVerifier [0x00007FF6B42DA40B+841403]\n",
      "\t(No symbol) [0x00007FF6B418340F]\n",
      "\t(No symbol) [0x00007FF6B417F484]\n",
      "\t(No symbol) [0x00007FF6B417F61D]\n",
      "\t(No symbol) [0x00007FF6B416EB79]\n",
      "\tBaseThreadInitThunk [0x00007FFA3FF17374+20]\n",
      "\tRtlUserThreadStart [0x00007FFA4061CC91+33]\n",
      "\n",
      "Opening product link at index 24: https://www.amazon.com/Jacquard-Lumiere-Pack-Light-bodied-Lightfast/dp/B00CYJIMIM/ref=sr_1_13?dib=eyJ2IjoiMSJ9.e_8RiT12-oib4IYmFiUhmLFJvZHgRaOC4CO7mI3Fiepz8w1vauuxKNyijUc-LMwIhwTV6_2iSLlYHHn9_vocWfW3ZiHpzZybSTbD36c56JI_7cr5bBzWoCDwgyQQdPGGAdaym6l44ncOt9Gkd3I952VDUxGYCKeP1Mis8_QeXsA4Kwfy5icZgSbsP3c_xPGS.4MTPMTRl7HYXj_2AEqZsaz2MHQ87FPCFI3Q41zVmIws&dib_tag=se&m=APFT9QL1K3VXH&marketplaceID=ATVPDKIKX0DER&qid=1730855187&s=merchant-items&sr=1-13\n",
      "Jacquard Lumiere 7 Pack - Metallic Paint for Fabric Paper Wood Ceramic & Metal - Light-bodied Metallic Acrylic Paint - Lightfast & Vibrant Metallic Acrylic Paints - 2.25oz Bottles\n",
      "Visit the Jacquard Store\n",
      "249 ratings\n",
      "4.5\n",
      "Some Data is Missing By Dynamic Element Change or position: Message: no such element: Unable to locate element: {\"method\":\"css selector\",\"selector\":\"[id=\"social-proofing-faceout-title-tk_bought\"]\"}\n",
      "  (Session info: chrome=130.0.6723.92); For documentation on this error, please visit: https://www.selenium.dev/documentation/webdriver/troubleshooting/errors#no-such-element-exception\n",
      "Stacktrace:\n",
      "\tGetHandleVerifier [0x00007FF6B4213AB5+28005]\n",
      "\t(No symbol) [0x00007FF6B41783B0]\n",
      "\t(No symbol) [0x00007FF6B401580A]\n",
      "\t(No symbol) [0x00007FF6B4065A3E]\n",
      "\t(No symbol) [0x00007FF6B4065D2C]\n",
      "\t(No symbol) [0x00007FF6B40AEA97]\n",
      "\t(No symbol) [0x00007FF6B408BA7F]\n",
      "\t(No symbol) [0x00007FF6B40AB8B3]\n",
      "\t(No symbol) [0x00007FF6B408B7E3]\n",
      "\t(No symbol) [0x00007FF6B40575C8]\n",
      "\t(No symbol) [0x00007FF6B4058731]\n",
      "\tGetHandleVerifier [0x00007FF6B450643D+3118829]\n",
      "\tGetHandleVerifier [0x00007FF6B4556C90+3448640]\n",
      "\tGetHandleVerifier [0x00007FF6B454CF0D+3408317]\n",
      "\tGetHandleVerifier [0x00007FF6B42DA40B+841403]\n",
      "\t(No symbol) [0x00007FF6B418340F]\n",
      "\t(No symbol) [0x00007FF6B417F484]\n",
      "\t(No symbol) [0x00007FF6B417F61D]\n",
      "\t(No symbol) [0x00007FF6B416EB79]\n",
      "\tBaseThreadInitThunk [0x00007FFA3FF17374+20]\n",
      "\tRtlUserThreadStart [0x00007FFA4061CC91+33]\n",
      "\n",
      "Opening product link at index 25: https://www.amazon.com/Jacquard-Lumiere-Pack-Light-bodied-Lightfast/dp/B00CYJIMIM/ref=sr_1_13?dib=eyJ2IjoiMSJ9.e_8RiT12-oib4IYmFiUhmLFJvZHgRaOC4CO7mI3Fiepz8w1vauuxKNyijUc-LMwIhwTV6_2iSLlYHHn9_vocWfW3ZiHpzZybSTbD36c56JI_7cr5bBzWoCDwgyQQdPGGAdaym6l44ncOt9Gkd3I952VDUxGYCKeP1Mis8_QeXsA4Kwfy5icZgSbsP3c_xPGS.4MTPMTRl7HYXj_2AEqZsaz2MHQ87FPCFI3Q41zVmIws&dib_tag=se&m=APFT9QL1K3VXH&marketplaceID=ATVPDKIKX0DER&qid=1730855187&s=merchant-items&sr=1-13\n",
      "Jacquard Lumiere 7 Pack - Metallic Paint for Fabric Paper Wood Ceramic & Metal - Light-bodied Metallic Acrylic Paint - Lightfast & Vibrant Metallic Acrylic Paints - 2.25oz Bottles\n",
      "Visit the Jacquard Store\n",
      "249 ratings\n",
      "4.5\n",
      "Some Data is Missing By Dynamic Element Change or position: Message: no such element: Unable to locate element: {\"method\":\"css selector\",\"selector\":\"[id=\"social-proofing-faceout-title-tk_bought\"]\"}\n",
      "  (Session info: chrome=130.0.6723.92); For documentation on this error, please visit: https://www.selenium.dev/documentation/webdriver/troubleshooting/errors#no-such-element-exception\n",
      "Stacktrace:\n",
      "\tGetHandleVerifier [0x00007FF6B4213AB5+28005]\n",
      "\t(No symbol) [0x00007FF6B41783B0]\n",
      "\t(No symbol) [0x00007FF6B401580A]\n",
      "\t(No symbol) [0x00007FF6B4065A3E]\n",
      "\t(No symbol) [0x00007FF6B4065D2C]\n",
      "\t(No symbol) [0x00007FF6B40AEA97]\n",
      "\t(No symbol) [0x00007FF6B408BA7F]\n",
      "\t(No symbol) [0x00007FF6B40AB8B3]\n",
      "\t(No symbol) [0x00007FF6B408B7E3]\n",
      "\t(No symbol) [0x00007FF6B40575C8]\n",
      "\t(No symbol) [0x00007FF6B4058731]\n",
      "\tGetHandleVerifier [0x00007FF6B450643D+3118829]\n",
      "\tGetHandleVerifier [0x00007FF6B4556C90+3448640]\n",
      "\tGetHandleVerifier [0x00007FF6B454CF0D+3408317]\n",
      "\tGetHandleVerifier [0x00007FF6B42DA40B+841403]\n",
      "\t(No symbol) [0x00007FF6B418340F]\n",
      "\t(No symbol) [0x00007FF6B417F484]\n",
      "\t(No symbol) [0x00007FF6B417F61D]\n",
      "\t(No symbol) [0x00007FF6B416EB79]\n",
      "\tBaseThreadInitThunk [0x00007FFA3FF17374+20]\n",
      "\tRtlUserThreadStart [0x00007FFA4061CC91+33]\n",
      "\n"
     ]
    },
    {
     "ename": "ValueError",
     "evalue": "All arrays must be of the same length",
     "output_type": "error",
     "traceback": [
      "\u001b[1;31m---------------------------------------------------------------------------\u001b[0m",
      "\u001b[1;31mValueError\u001b[0m                                Traceback (most recent call last)",
      "Cell \u001b[1;32mIn[129], line 44\u001b[0m\n\u001b[0;32m     40\u001b[0m     \u001b[38;5;28;01mexcept\u001b[39;00m \u001b[38;5;167;01mException\u001b[39;00m \u001b[38;5;28;01mas\u001b[39;00m e:\n\u001b[0;32m     41\u001b[0m         \u001b[38;5;28mprint\u001b[39m(\u001b[38;5;124m\"\u001b[39m\u001b[38;5;124mSome Data is Missing By Dynamic Element Change or position:\u001b[39m\u001b[38;5;124m\"\u001b[39m, e)\n\u001b[1;32m---> 44\u001b[0m amazon_df \u001b[38;5;241m=\u001b[39m \u001b[43mpd\u001b[49m\u001b[38;5;241;43m.\u001b[39;49m\u001b[43mDataFrame\u001b[49m\u001b[43m(\u001b[49m\u001b[43m{\u001b[49m\n\u001b[0;32m     45\u001b[0m \u001b[43m    \u001b[49m\u001b[38;5;124;43m'\u001b[39;49m\u001b[38;5;124;43mProduct Title\u001b[39;49m\u001b[38;5;124;43m'\u001b[39;49m\u001b[43m:\u001b[49m\u001b[43m \u001b[49m\u001b[43mproduct_titles\u001b[49m\u001b[43m,\u001b[49m\n\u001b[0;32m     46\u001b[0m \u001b[43m    \u001b[49m\u001b[38;5;124;43m'\u001b[39;49m\u001b[38;5;124;43mBrand\u001b[39;49m\u001b[38;5;124;43m'\u001b[39;49m\u001b[43m:\u001b[49m\u001b[43m \u001b[49m\u001b[43mbrand_names\u001b[49m\u001b[43m,\u001b[49m\n\u001b[0;32m     47\u001b[0m \u001b[43m    \u001b[49m\u001b[38;5;124;43m'\u001b[39;49m\u001b[38;5;124;43mReviews\u001b[39;49m\u001b[38;5;124;43m'\u001b[39;49m\u001b[43m:\u001b[49m\u001b[43m \u001b[49m\u001b[43mreview_counts_list\u001b[49m\u001b[43m,\u001b[49m\n\u001b[0;32m     48\u001b[0m \u001b[43m    \u001b[49m\u001b[38;5;124;43m'\u001b[39;49m\u001b[38;5;124;43mRatings\u001b[39;49m\u001b[38;5;124;43m'\u001b[39;49m\u001b[43m:\u001b[49m\u001b[43m \u001b[49m\u001b[43mratings_list\u001b[49m\u001b[43m,\u001b[49m\n\u001b[0;32m     49\u001b[0m \u001b[43m    \u001b[49m\u001b[38;5;124;43m'\u001b[39;49m\u001b[38;5;124;43mEst. Sales\u001b[39;49m\u001b[38;5;124;43m'\u001b[39;49m\u001b[43m:\u001b[49m\u001b[43m \u001b[49m\u001b[43msales_list\u001b[49m\u001b[43m,\u001b[49m\n\u001b[0;32m     50\u001b[0m \u001b[43m    \u001b[49m\u001b[38;5;124;43m'\u001b[39;49m\u001b[38;5;124;43mPrice\u001b[39;49m\u001b[38;5;124;43m'\u001b[39;49m\u001b[43m:\u001b[49m\u001b[43m \u001b[49m\u001b[43mprices_list\u001b[49m\u001b[43m,\u001b[49m\n\u001b[0;32m     51\u001b[0m \u001b[43m    \u001b[49m\u001b[38;5;124;43m'\u001b[39;49m\u001b[38;5;124;43mASIN\u001b[39;49m\u001b[38;5;124;43m'\u001b[39;49m\u001b[43m:\u001b[49m\u001b[43m \u001b[49m\u001b[43masins_list\u001b[49m\u001b[43m,\u001b[49m\n\u001b[0;32m     52\u001b[0m \u001b[43m    \u001b[49m\u001b[38;5;124;43m'\u001b[39;49m\u001b[38;5;124;43mBSR\u001b[39;49m\u001b[38;5;124;43m'\u001b[39;49m\u001b[43m:\u001b[49m\u001b[43m \u001b[49m\u001b[43mbsrs_list\u001b[49m\n\u001b[0;32m     53\u001b[0m \u001b[43m}\u001b[49m\u001b[43m)\u001b[49m\n\u001b[0;32m     56\u001b[0m \u001b[38;5;28mprint\u001b[39m(amazon_df)\n",
      "File \u001b[1;32mC:\\ProgramData\\anaconda3\\Lib\\site-packages\\pandas\\core\\frame.py:778\u001b[0m, in \u001b[0;36mDataFrame.__init__\u001b[1;34m(self, data, index, columns, dtype, copy)\u001b[0m\n\u001b[0;32m    772\u001b[0m     mgr \u001b[38;5;241m=\u001b[39m \u001b[38;5;28mself\u001b[39m\u001b[38;5;241m.\u001b[39m_init_mgr(\n\u001b[0;32m    773\u001b[0m         data, axes\u001b[38;5;241m=\u001b[39m{\u001b[38;5;124m\"\u001b[39m\u001b[38;5;124mindex\u001b[39m\u001b[38;5;124m\"\u001b[39m: index, \u001b[38;5;124m\"\u001b[39m\u001b[38;5;124mcolumns\u001b[39m\u001b[38;5;124m\"\u001b[39m: columns}, dtype\u001b[38;5;241m=\u001b[39mdtype, copy\u001b[38;5;241m=\u001b[39mcopy\n\u001b[0;32m    774\u001b[0m     )\n\u001b[0;32m    776\u001b[0m \u001b[38;5;28;01melif\u001b[39;00m \u001b[38;5;28misinstance\u001b[39m(data, \u001b[38;5;28mdict\u001b[39m):\n\u001b[0;32m    777\u001b[0m     \u001b[38;5;66;03m# GH#38939 de facto copy defaults to False only in non-dict cases\u001b[39;00m\n\u001b[1;32m--> 778\u001b[0m     mgr \u001b[38;5;241m=\u001b[39m \u001b[43mdict_to_mgr\u001b[49m\u001b[43m(\u001b[49m\u001b[43mdata\u001b[49m\u001b[43m,\u001b[49m\u001b[43m \u001b[49m\u001b[43mindex\u001b[49m\u001b[43m,\u001b[49m\u001b[43m \u001b[49m\u001b[43mcolumns\u001b[49m\u001b[43m,\u001b[49m\u001b[43m \u001b[49m\u001b[43mdtype\u001b[49m\u001b[38;5;241;43m=\u001b[39;49m\u001b[43mdtype\u001b[49m\u001b[43m,\u001b[49m\u001b[43m \u001b[49m\u001b[43mcopy\u001b[49m\u001b[38;5;241;43m=\u001b[39;49m\u001b[43mcopy\u001b[49m\u001b[43m,\u001b[49m\u001b[43m \u001b[49m\u001b[43mtyp\u001b[49m\u001b[38;5;241;43m=\u001b[39;49m\u001b[43mmanager\u001b[49m\u001b[43m)\u001b[49m\n\u001b[0;32m    779\u001b[0m \u001b[38;5;28;01melif\u001b[39;00m \u001b[38;5;28misinstance\u001b[39m(data, ma\u001b[38;5;241m.\u001b[39mMaskedArray):\n\u001b[0;32m    780\u001b[0m     \u001b[38;5;28;01mfrom\u001b[39;00m \u001b[38;5;21;01mnumpy\u001b[39;00m\u001b[38;5;21;01m.\u001b[39;00m\u001b[38;5;21;01mma\u001b[39;00m \u001b[38;5;28;01mimport\u001b[39;00m mrecords\n",
      "File \u001b[1;32mC:\\ProgramData\\anaconda3\\Lib\\site-packages\\pandas\\core\\internals\\construction.py:503\u001b[0m, in \u001b[0;36mdict_to_mgr\u001b[1;34m(data, index, columns, dtype, typ, copy)\u001b[0m\n\u001b[0;32m    499\u001b[0m     \u001b[38;5;28;01melse\u001b[39;00m:\n\u001b[0;32m    500\u001b[0m         \u001b[38;5;66;03m# dtype check to exclude e.g. range objects, scalars\u001b[39;00m\n\u001b[0;32m    501\u001b[0m         arrays \u001b[38;5;241m=\u001b[39m [x\u001b[38;5;241m.\u001b[39mcopy() \u001b[38;5;28;01mif\u001b[39;00m \u001b[38;5;28mhasattr\u001b[39m(x, \u001b[38;5;124m\"\u001b[39m\u001b[38;5;124mdtype\u001b[39m\u001b[38;5;124m\"\u001b[39m) \u001b[38;5;28;01melse\u001b[39;00m x \u001b[38;5;28;01mfor\u001b[39;00m x \u001b[38;5;129;01min\u001b[39;00m arrays]\n\u001b[1;32m--> 503\u001b[0m \u001b[38;5;28;01mreturn\u001b[39;00m \u001b[43marrays_to_mgr\u001b[49m\u001b[43m(\u001b[49m\u001b[43marrays\u001b[49m\u001b[43m,\u001b[49m\u001b[43m \u001b[49m\u001b[43mcolumns\u001b[49m\u001b[43m,\u001b[49m\u001b[43m \u001b[49m\u001b[43mindex\u001b[49m\u001b[43m,\u001b[49m\u001b[43m \u001b[49m\u001b[43mdtype\u001b[49m\u001b[38;5;241;43m=\u001b[39;49m\u001b[43mdtype\u001b[49m\u001b[43m,\u001b[49m\u001b[43m \u001b[49m\u001b[43mtyp\u001b[49m\u001b[38;5;241;43m=\u001b[39;49m\u001b[43mtyp\u001b[49m\u001b[43m,\u001b[49m\u001b[43m \u001b[49m\u001b[43mconsolidate\u001b[49m\u001b[38;5;241;43m=\u001b[39;49m\u001b[43mcopy\u001b[49m\u001b[43m)\u001b[49m\n",
      "File \u001b[1;32mC:\\ProgramData\\anaconda3\\Lib\\site-packages\\pandas\\core\\internals\\construction.py:114\u001b[0m, in \u001b[0;36marrays_to_mgr\u001b[1;34m(arrays, columns, index, dtype, verify_integrity, typ, consolidate)\u001b[0m\n\u001b[0;32m    111\u001b[0m \u001b[38;5;28;01mif\u001b[39;00m verify_integrity:\n\u001b[0;32m    112\u001b[0m     \u001b[38;5;66;03m# figure out the index, if necessary\u001b[39;00m\n\u001b[0;32m    113\u001b[0m     \u001b[38;5;28;01mif\u001b[39;00m index \u001b[38;5;129;01mis\u001b[39;00m \u001b[38;5;28;01mNone\u001b[39;00m:\n\u001b[1;32m--> 114\u001b[0m         index \u001b[38;5;241m=\u001b[39m \u001b[43m_extract_index\u001b[49m\u001b[43m(\u001b[49m\u001b[43marrays\u001b[49m\u001b[43m)\u001b[49m\n\u001b[0;32m    115\u001b[0m     \u001b[38;5;28;01melse\u001b[39;00m:\n\u001b[0;32m    116\u001b[0m         index \u001b[38;5;241m=\u001b[39m ensure_index(index)\n",
      "File \u001b[1;32mC:\\ProgramData\\anaconda3\\Lib\\site-packages\\pandas\\core\\internals\\construction.py:677\u001b[0m, in \u001b[0;36m_extract_index\u001b[1;34m(data)\u001b[0m\n\u001b[0;32m    675\u001b[0m lengths \u001b[38;5;241m=\u001b[39m \u001b[38;5;28mlist\u001b[39m(\u001b[38;5;28mset\u001b[39m(raw_lengths))\n\u001b[0;32m    676\u001b[0m \u001b[38;5;28;01mif\u001b[39;00m \u001b[38;5;28mlen\u001b[39m(lengths) \u001b[38;5;241m>\u001b[39m \u001b[38;5;241m1\u001b[39m:\n\u001b[1;32m--> 677\u001b[0m     \u001b[38;5;28;01mraise\u001b[39;00m \u001b[38;5;167;01mValueError\u001b[39;00m(\u001b[38;5;124m\"\u001b[39m\u001b[38;5;124mAll arrays must be of the same length\u001b[39m\u001b[38;5;124m\"\u001b[39m)\n\u001b[0;32m    679\u001b[0m \u001b[38;5;28;01mif\u001b[39;00m have_dicts:\n\u001b[0;32m    680\u001b[0m     \u001b[38;5;28;01mraise\u001b[39;00m \u001b[38;5;167;01mValueError\u001b[39;00m(\n\u001b[0;32m    681\u001b[0m         \u001b[38;5;124m\"\u001b[39m\u001b[38;5;124mMixing dicts with non-Series may lead to ambiguous ordering.\u001b[39m\u001b[38;5;124m\"\u001b[39m\n\u001b[0;32m    682\u001b[0m     )\n",
      "\u001b[1;31mValueError\u001b[0m: All arrays must be of the same length"
     ]
    }
   ],
   "source": [
    "for index, link in enumerate(product_links):\n",
    "    print(f\"Opening product link at index {index}: {link}\")\n",
    "    driver.get(link)\n",
    "    time.sleep(2)  \n",
    "    \n",
    "    try:\n",
    "        # Extract product data and append to lists\n",
    "        product_title = driver.find_element(By.ID, 'productTitle').text\n",
    "        product_titles.append(product_title)\n",
    "        print(product_title)\n",
    "\n",
    "        brand_name = driver.find_element(By.XPATH, '//*[@id=\"bylineInfo_feature_div\"]/div').text\n",
    "        brand_names.append(brand_name)\n",
    "        print(brand_name)\n",
    "        \n",
    "        review_counts = driver.find_element(By.ID, 'acrCustomerReviewText').text\n",
    "        review_counts_list.append(review_counts)\n",
    "        print(review_counts)\n",
    "        \n",
    "        rating = driver.find_element(By.CSS_SELECTOR, '#acrPopover > span.a-declarative > a > span').text\n",
    "        ratings_list.append(rating)\n",
    "        print(rating)\n",
    "\n",
    "        sales = driver.find_element(By.ID, 'social-proofing-faceout-title-tk_bought').text\n",
    "        sales_list.append(sales)\n",
    "        print(sales)\n",
    "\n",
    "        price = driver.find_element(By.CSS_SELECTOR, '#corePriceDisplay_desktop_feature_div > div.a-section.a-spacing-none.aok-align-center.aok-relative > span.a-price.aok-align-center.reinventPricePriceToPayMargin.priceToPay').text\n",
    "        prices_list.append(price)\n",
    "        print(price)\n",
    "\n",
    "        asin = driver.find_element(By.CSS_SELECTOR, '#detailBullets_feature_div > ul > li:nth-child(6) > span > span:nth-child(2)').text\n",
    "        asins_list.append(asin)\n",
    "        print(asin)\n",
    "\n",
    "        bsr = driver.find_element(By.CSS_SELECTOR, '#detailBulletsWrapper_feature_div > ul:nth-child(4) > li > span').text\n",
    "        bsrs_list.append(bsr)\n",
    "        print(bsr)\n",
    "        \n",
    "    except Exception as e:\n",
    "        print(\"Some Data is Missing By Dynamic Element Change or position:\", e)\n",
    "        \n",
    "        \n",
    "amazon_df = pd.DataFrame({\n",
    "    'Product Title': product_titles,\n",
    "    'Brand': brand_names,\n",
    "    'Reviews': review_counts_list,\n",
    "    'Ratings': ratings_list,\n",
    "    'Est. Sales': sales_list,\n",
    "    'Price': prices_list,\n",
    "    'ASIN': asins_list,\n",
    "    'BSR': bsrs_list\n",
    "})\n",
    "\n",
    "\n",
    "print(amazon_df)\n",
    "\n"
   ]
  },
  {
   "cell_type": "code",
   "execution_count": null,
   "id": "6f707b57-e1ad-42a7-b36b-9b07c8803ff4",
   "metadata": {},
   "outputs": [],
   "source": []
  }
 ],
 "metadata": {
  "kernelspec": {
   "display_name": "Python 3 (ipykernel)",
   "language": "python",
   "name": "python3"
  },
  "language_info": {
   "codemirror_mode": {
    "name": "ipython",
    "version": 3
   },
   "file_extension": ".py",
   "mimetype": "text/x-python",
   "name": "python",
   "nbconvert_exporter": "python",
   "pygments_lexer": "ipython3",
   "version": "3.12.4"
  }
 },
 "nbformat": 4,
 "nbformat_minor": 5
}
